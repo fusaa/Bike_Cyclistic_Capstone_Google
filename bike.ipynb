{
 "cells": [
  {
   "cell_type": "markdown",
   "id": "be37eba5",
   "metadata": {},
   "source": [
    "# Introduction"
   ]
  },
  {
   "cell_type": "markdown",
   "id": "bb6b1322",
   "metadata": {},
   "source": [
    "The bike sharing industry has seen significant growth over the past decade, providing a convenient, environmentally friendly, and healthy transportation option for city dwellers and tourists alike. In this rapidly changing landscape, understanding customer behaviors and preferences is crucial for companies to stay competitive and grow.\n",
    "\n",
    "This analysis focuses on a bike sharing company in Chicago, specifically examining differences between two types of riders: casual riders and annual members. Casual riders are those who use the service occasionally, often on an as-needed basis, while annual members are regular users who have committed to a yearly subscription.\n",
    "\n",
    "In the following sections, we will delve into the data, exploring various aspects of rider behavior and drawing insights that can inform these strategic decisions."
   ]
  },
  {
   "cell_type": "markdown",
   "id": "afd2d318",
   "metadata": {},
   "source": [
    "# Part 1 - Ask"
   ]
  },
  {
   "cell_type": "markdown",
   "id": "fc915bd2",
   "metadata": {},
   "source": [
    "**The problem** we are trying to solve is maximising the number of annual memberships at Cyclistic. \n",
    "\n",
    "While Cyclistic has been successfully attracting casual riders and annual members, the company's finance analysts have determined that annual members are more profitable. Therefore, the marketing director believes converting casual riders into annual members will benefit the company's future growth.\n",
    "\n",
    "To address this problem, the marketing analyst team aims to understand the differences between casual riders and annual members regarding usage patterns, preferences, and behaviours. By uncovering these insights through data analysis, you can design a new marketing strategy that explicitly targets casual riders to encourage them to become annual members. "
   ]
  },
  {
   "cell_type": "markdown",
   "id": "c10565ad",
   "metadata": {},
   "source": [
    "**Insights** about the differences between casual riders and annual members can drive business decisions in a variety of ways:\n",
    "\n",
    "-  Help design marketing strategies that specifically target casual riders to convert them into annual members, resulting in higher conversion rates and increased revenue.  \n",
    "\n",
    "- Understanding customer preferences and behaviours can optimise pricing plans to encourage casual riders to purchase annual memberships, increasing conversions and revenue.  \n",
    "\n",
    "- Provide the the product development team with more information, enabling the introduction of features that attract more annual memberships."
   ]
  },
  {
   "cell_type": "markdown",
   "id": "5684c7ef",
   "metadata": {
    "ExecuteTime": {
     "end_time": "2023-07-12T10:22:31.974174Z",
     "start_time": "2023-07-12T10:22:31.954174Z"
    }
   },
   "source": [
    "# Part 2 - Prepare"
   ]
  },
  {
   "cell_type": "markdown",
   "id": "d4a1b9f7",
   "metadata": {},
   "source": [
    "\n",
    "The Data:  \n",
    "The dataset comes from Divvybikes (https://divvybikes.com/system-data). And is provided according to the Divvy Data License Agreement.\n",
    "\n",
    "It is provided in csv files. Each file represents a specific month. It includes:\n",
    "\n",
    "\n",
    "    Trip start day and time\n",
    "    Trip end day and time\n",
    "    Trip start station\n",
    "    Trip end station\n",
    "    Rider type (Member, Single Ride, and Day Pass)\n",
    "\n",
    "The data has been processed to remove trips that are taken by staff as they service and inspect the system; and any trips that were below 60 seconds in length (potentially false starts or users trying to re-dock a bike to ensure it was secure)."
   ]
  },
  {
   "cell_type": "markdown",
   "id": "8b27289c",
   "metadata": {
    "ExecuteTime": {
     "end_time": "2023-07-12T10:34:32.028821Z",
     "start_time": "2023-07-12T10:34:32.008654Z"
    }
   },
   "source": [
    "# Process"
   ]
  },
  {
   "cell_type": "markdown",
   "id": "09953a2b",
   "metadata": {},
   "source": [
    "For this part the decision was to use Python for the analysis. The dataset is big, and the packages and versatallity the language offers for analysis makes the language suitable for the task.  \n",
    "\n",
    "So after mannualy downloading the previous 12 months of cyclistic data, each file was unzipped and sent over to a specific folder \"data\". Once we checked all the files had the same structure we used a for loop to automatically merge all the data into a single dataset. \n",
    "\n",
    "New features have been created, like the total ride duration, distance and day of week.\n"
   ]
  },
  {
   "cell_type": "code",
   "execution_count": 2,
   "id": "2aeddae9",
   "metadata": {
    "ExecuteTime": {
     "end_time": "2023-07-25T10:15:03.347660Z",
     "start_time": "2023-07-25T10:14:56.937685Z"
    }
   },
   "outputs": [],
   "source": [
    "import pandas as pd\n",
    "from geopy.distance import geodesic\n",
    "import os\n",
    "\n",
    "from matplotlib import pyplot as plt\n",
    "\n",
    "import seaborn as sb"
   ]
  },
  {
   "cell_type": "markdown",
   "id": "021d1477",
   "metadata": {},
   "source": [
    "# Helper functions"
   ]
  },
  {
   "cell_type": "code",
   "execution_count": 197,
   "id": "f41f71aa",
   "metadata": {
    "ExecuteTime": {
     "end_time": "2023-07-26T10:40:26.064335Z",
     "start_time": "2023-07-26T10:40:26.018218Z"
    }
   },
   "outputs": [],
   "source": [
    "def get_iqr_values(df_in, col_name):\n",
    "    median = df_in[col_name].median()\n",
    "    q1 = df_in[col_name].quantile(0.25) # 25th percentile / 1st quartile\n",
    "    q3 = df_in[col_name].quantile(0.75) # 7th percentile / 3rd quartile\n",
    "    iqr = q3-q1 #Interquartile range\n",
    "    minimum  = q1-1.5*iqr # The minimum value or the |- marker in the box plot\n",
    "    maximum = q3+1.5*iqr # The maximum value or the -| marker in the box plot\n",
    "    return median, q1, q3, iqr, minimum, maximum\n",
    "\n",
    "def get_iqr_text(df_in, col_name):\n",
    "    median, q1, q3, iqr, minimum, maximum = get_iqr_values(df_in, col_name)\n",
    "    text = f\"median={median:.2f}, q1={q1:.2f}, q3={q3:.2f}, iqr={iqr:.2f},\\n minimum={minimum:.2f}, maximum={maximum:.2f}\"\n",
    "    return text\n",
    "\n",
    "def remove_outliers(df_in, col_name):\n",
    "    _, _, _, _, minimum, maximum = get_iqr_values(df_in, col_name)\n",
    "    df_out = df_in.loc[(df_in[col_name] > minimum) & (df_in[col_name] < maximum)]\n",
    "    return df_out\n",
    "\n",
    "def remove_all_outliers(df_in, col_name):\n",
    "    loop_count = 0\n",
    "    outlier_count = count_outliers(df_in, col_name)\n",
    "    \n",
    "    while outlier_count > 0:\n",
    "        loop_count += 1\n",
    "        \n",
    "        if (loop_count > 100):\n",
    "            break\n",
    "        \n",
    "        df_in = remove_outliers(df_in, col_name)\n",
    "        outlier_count = count_outliers(df_in, col_name)\n",
    "    return df_in\n",
    "\n",
    "def count_outliers(df_in, col_name):\n",
    "    _, _, _, _, minimum, maximum = get_iqr_values(df_in, col_name)\n",
    "    df_outliers = df_in.loc[(df_in[col_name] <= minimum) | (df_in[col_name] >= maximum)]\n",
    "    return df_outliers.shape[0]\n",
    "\n",
    "def box_and_whisker(df_in, col_name):\n",
    "    title = get_iqr_text(df_in, col_name)\n",
    "    plt.title(title, fontdict={'size':10})\n",
    "    return sb.boxplot(x = df_in[col_name])\n",
    "    \n",
    "    plt.show()\n",
    "\n",
    "def annotate_bar(ax, alt_names = None, pct = False):\n",
    "    i = 0\n",
    "    tot_height = 0.\n",
    "    if pct == True:\n",
    "        for p in ax.patches:\n",
    "            tot_height += p.get_height()\n",
    "        for p in ax.patches:\n",
    "            height = p.get_height()\n",
    "            ax.annotate(f'{round(height/tot_height*100,2):.2f}%',  # Format the text to display with two decimal places\n",
    "                            xy=(p.get_x() + p.get_width() / 2, height),\n",
    "                            xytext=(0, 5),  # Adjust the offset of the text above the bar\n",
    "                            textcoords=\"offset points\",\n",
    "                            ha='center', va='bottom')\n",
    "        return 0\n",
    "        \n",
    "        \n",
    "    for p in ax.patches:\n",
    "        height = p.get_height()\n",
    "        if alt_names == None:\n",
    "            ax.annotate(f'{height:.2f}',  # Format the text to display with two decimal places\n",
    "                        xy=(p.get_x() + p.get_width() / 2, height),\n",
    "                        xytext=(0, 5),  # Adjust the offset of the text above the bar\n",
    "                        textcoords=\"offset points\",\n",
    "                        ha='center', va='bottom')\n",
    "        else:\n",
    "            ax.annotate(f'{alt_names[i]}',  # Format the text to display with two decimal places\n",
    "                            xy=(p.get_x() + p.get_width() / 2, height),\n",
    "                            xytext=(0, 5),  # Adjust the offset of the text above the bar\n",
    "                            textcoords=\"offset points\",\n",
    "                            ha='center', va='bottom')\n",
    "            i += 1\n",
    "    return None"
   ]
  },
  {
   "cell_type": "code",
   "execution_count": null,
   "id": "8279a6f4",
   "metadata": {},
   "outputs": [],
   "source": []
  },
  {
   "cell_type": "code",
   "execution_count": null,
   "id": "8c51d7f8",
   "metadata": {},
   "outputs": [],
   "source": []
  },
  {
   "cell_type": "markdown",
   "id": "80ce54c5",
   "metadata": {
    "ExecuteTime": {
     "end_time": "2023-06-30T17:06:13.708362Z",
     "start_time": "2023-06-30T17:06:13.698364Z"
    }
   },
   "source": [
    "# Data Merging\n",
    "<a id='1'></a>"
   ]
  },
  {
   "cell_type": "markdown",
   "id": "03009d4e",
   "metadata": {},
   "source": [
    "[1](#1) [2](#2)"
   ]
  },
  {
   "cell_type": "code",
   "execution_count": 4,
   "id": "08bce1ce",
   "metadata": {
    "ExecuteTime": {
     "end_time": "2023-07-25T10:15:14.366337Z",
     "start_time": "2023-07-25T10:15:14.350730Z"
    }
   },
   "outputs": [],
   "source": [
    "part1 = False"
   ]
  },
  {
   "cell_type": "code",
   "execution_count": 5,
   "id": "fe65c7ee",
   "metadata": {
    "ExecuteTime": {
     "end_time": "2023-07-25T10:15:15.654539Z",
     "start_time": "2023-07-25T10:15:15.638913Z"
    }
   },
   "outputs": [],
   "source": [
    "if part1:\n",
    "    df = pd.read_csv('./data/202206-divvy-tripdata.csv')"
   ]
  },
  {
   "cell_type": "code",
   "execution_count": 6,
   "id": "11a99d37",
   "metadata": {
    "ExecuteTime": {
     "end_time": "2023-07-25T10:15:16.256296Z",
     "start_time": "2023-07-25T10:15:16.225053Z"
    }
   },
   "outputs": [],
   "source": [
    "if part1:\n",
    "    print(df.shape)\n",
    "    df.isna().sum()"
   ]
  },
  {
   "cell_type": "code",
   "execution_count": 7,
   "id": "d99c5311",
   "metadata": {
    "ExecuteTime": {
     "end_time": "2023-07-25T10:15:20.639250Z",
     "start_time": "2023-07-25T10:15:20.623612Z"
    }
   },
   "outputs": [],
   "source": [
    "if part1:\n",
    "    filenames_list = os.listdir('./data')\n",
    "    filenames_list.sort()\n",
    "    print(filenames_list)"
   ]
  },
  {
   "cell_type": "code",
   "execution_count": 8,
   "id": "36f4e57f",
   "metadata": {
    "ExecuteTime": {
     "end_time": "2023-07-25T10:15:21.118581Z",
     "start_time": "2023-07-25T10:15:21.102957Z"
    }
   },
   "outputs": [],
   "source": [
    "if part1:\n",
    "    df_s = []\n",
    "    for i in filenames_list:\n",
    "        df_s.append(pd.read_csv(f'./data/{i}'))"
   ]
  },
  {
   "cell_type": "code",
   "execution_count": 9,
   "id": "ceaaee31",
   "metadata": {
    "ExecuteTime": {
     "end_time": "2023-07-25T10:15:22.545245Z",
     "start_time": "2023-07-25T10:15:22.529600Z"
    }
   },
   "outputs": [],
   "source": [
    "if part1:\n",
    "    df_s_column_names =[]\n",
    "    for i in df_s:\n",
    "        df_s_column_names.append(list(i.columns))"
   ]
  },
  {
   "cell_type": "code",
   "execution_count": 10,
   "id": "de856134",
   "metadata": {
    "ExecuteTime": {
     "end_time": "2023-07-25T10:15:22.908608Z",
     "start_time": "2023-07-25T10:15:22.877358Z"
    }
   },
   "outputs": [],
   "source": [
    "if part1:\n",
    "    for i in range(1,len(df_s_column_names)):\n",
    "        print(df_s_column_names[0] == df_s_column_names[i], end = ' ')"
   ]
  },
  {
   "cell_type": "code",
   "execution_count": 11,
   "id": "7a43e69f",
   "metadata": {
    "ExecuteTime": {
     "end_time": "2023-07-25T10:15:23.193833Z",
     "start_time": "2023-07-25T10:15:23.178207Z"
    }
   },
   "outputs": [],
   "source": [
    "if part1:\n",
    "    df = df_s[0].copy()\n",
    "    for i in range(1,len(df_s)):\n",
    "        df = pd.concat([df, df_s[i]])"
   ]
  },
  {
   "cell_type": "code",
   "execution_count": 12,
   "id": "1794bd33",
   "metadata": {
    "ExecuteTime": {
     "end_time": "2023-07-25T10:15:29.529826Z",
     "start_time": "2023-07-25T10:15:29.498563Z"
    }
   },
   "outputs": [],
   "source": [
    "if part1:\n",
    "    df.reset_index(inplace=True)\n",
    "    df.drop(columns='index', inplace = True)"
   ]
  },
  {
   "cell_type": "code",
   "execution_count": 13,
   "id": "917e8875",
   "metadata": {
    "ExecuteTime": {
     "end_time": "2023-07-25T10:17:13.864154Z",
     "start_time": "2023-07-25T10:15:29.915345Z"
    }
   },
   "outputs": [],
   "source": [
    "if part1:\n",
    "    df.to_pickle('./workflow_data/df.pkl')\n",
    "else:\n",
    "    df = pd.read_pickle('./workflow_data/df.pkl') #1m40s"
   ]
  },
  {
   "cell_type": "markdown",
   "id": "68527254",
   "metadata": {},
   "source": [
    "<a id='2'></a>\n",
    "# Checking the data"
   ]
  },
  {
   "cell_type": "markdown",
   "id": "a78fa199",
   "metadata": {},
   "source": [
    "- Data overview:"
   ]
  },
  {
   "cell_type": "code",
   "execution_count": 14,
   "id": "e3199d3b",
   "metadata": {
    "ExecuteTime": {
     "end_time": "2023-07-25T10:33:11.006167Z",
     "start_time": "2023-07-25T10:33:10.774314Z"
    }
   },
   "outputs": [
    {
     "data": {
      "text/html": [
       "<div>\n",
       "<style scoped>\n",
       "    .dataframe tbody tr th:only-of-type {\n",
       "        vertical-align: middle;\n",
       "    }\n",
       "\n",
       "    .dataframe tbody tr th {\n",
       "        vertical-align: top;\n",
       "    }\n",
       "\n",
       "    .dataframe thead th {\n",
       "        text-align: right;\n",
       "    }\n",
       "</style>\n",
       "<table border=\"1\" class=\"dataframe\">\n",
       "  <thead>\n",
       "    <tr style=\"text-align: right;\">\n",
       "      <th></th>\n",
       "      <th>ride_id</th>\n",
       "      <th>rideable_type</th>\n",
       "      <th>started_at</th>\n",
       "      <th>ended_at</th>\n",
       "      <th>start_station_name</th>\n",
       "      <th>start_station_id</th>\n",
       "      <th>end_station_name</th>\n",
       "      <th>end_station_id</th>\n",
       "      <th>start_lat</th>\n",
       "      <th>start_lng</th>\n",
       "      <th>end_lat</th>\n",
       "      <th>end_lng</th>\n",
       "      <th>member_casual</th>\n",
       "    </tr>\n",
       "  </thead>\n",
       "  <tbody>\n",
       "    <tr>\n",
       "      <th>0</th>\n",
       "      <td>600CFD130D0FD2A4</td>\n",
       "      <td>electric_bike</td>\n",
       "      <td>2022-06-30 17:27:53</td>\n",
       "      <td>2022-06-30 17:35:15</td>\n",
       "      <td>NaN</td>\n",
       "      <td>NaN</td>\n",
       "      <td>NaN</td>\n",
       "      <td>NaN</td>\n",
       "      <td>41.89</td>\n",
       "      <td>-87.62</td>\n",
       "      <td>41.91</td>\n",
       "      <td>-87.62</td>\n",
       "      <td>casual</td>\n",
       "    </tr>\n",
       "    <tr>\n",
       "      <th>1</th>\n",
       "      <td>F5E6B5C1682C6464</td>\n",
       "      <td>electric_bike</td>\n",
       "      <td>2022-06-30 18:39:52</td>\n",
       "      <td>2022-06-30 18:47:28</td>\n",
       "      <td>NaN</td>\n",
       "      <td>NaN</td>\n",
       "      <td>NaN</td>\n",
       "      <td>NaN</td>\n",
       "      <td>41.91</td>\n",
       "      <td>-87.62</td>\n",
       "      <td>41.93</td>\n",
       "      <td>-87.63</td>\n",
       "      <td>casual</td>\n",
       "    </tr>\n",
       "    <tr>\n",
       "      <th>2</th>\n",
       "      <td>B6EB6D27BAD771D2</td>\n",
       "      <td>electric_bike</td>\n",
       "      <td>2022-06-30 11:49:25</td>\n",
       "      <td>2022-06-30 12:02:54</td>\n",
       "      <td>NaN</td>\n",
       "      <td>NaN</td>\n",
       "      <td>NaN</td>\n",
       "      <td>NaN</td>\n",
       "      <td>41.91</td>\n",
       "      <td>-87.65</td>\n",
       "      <td>41.89</td>\n",
       "      <td>-87.61</td>\n",
       "      <td>casual</td>\n",
       "    </tr>\n",
       "    <tr>\n",
       "      <th>3</th>\n",
       "      <td>C9C320375DE1D5C6</td>\n",
       "      <td>electric_bike</td>\n",
       "      <td>2022-06-30 11:15:25</td>\n",
       "      <td>2022-06-30 11:19:43</td>\n",
       "      <td>NaN</td>\n",
       "      <td>NaN</td>\n",
       "      <td>NaN</td>\n",
       "      <td>NaN</td>\n",
       "      <td>41.80</td>\n",
       "      <td>-87.66</td>\n",
       "      <td>41.80</td>\n",
       "      <td>-87.65</td>\n",
       "      <td>casual</td>\n",
       "    </tr>\n",
       "    <tr>\n",
       "      <th>4</th>\n",
       "      <td>56C055851023BE98</td>\n",
       "      <td>electric_bike</td>\n",
       "      <td>2022-06-29 23:36:50</td>\n",
       "      <td>2022-06-29 23:45:17</td>\n",
       "      <td>NaN</td>\n",
       "      <td>NaN</td>\n",
       "      <td>NaN</td>\n",
       "      <td>NaN</td>\n",
       "      <td>41.91</td>\n",
       "      <td>-87.63</td>\n",
       "      <td>41.93</td>\n",
       "      <td>-87.64</td>\n",
       "      <td>casual</td>\n",
       "    </tr>\n",
       "  </tbody>\n",
       "</table>\n",
       "</div>"
      ],
      "text/plain": [
       "            ride_id  rideable_type           started_at             ended_at   \n",
       "0  600CFD130D0FD2A4  electric_bike  2022-06-30 17:27:53  2022-06-30 17:35:15  \\\n",
       "1  F5E6B5C1682C6464  electric_bike  2022-06-30 18:39:52  2022-06-30 18:47:28   \n",
       "2  B6EB6D27BAD771D2  electric_bike  2022-06-30 11:49:25  2022-06-30 12:02:54   \n",
       "3  C9C320375DE1D5C6  electric_bike  2022-06-30 11:15:25  2022-06-30 11:19:43   \n",
       "4  56C055851023BE98  electric_bike  2022-06-29 23:36:50  2022-06-29 23:45:17   \n",
       "\n",
       "  start_station_name start_station_id end_station_name end_station_id   \n",
       "0                NaN              NaN              NaN            NaN  \\\n",
       "1                NaN              NaN              NaN            NaN   \n",
       "2                NaN              NaN              NaN            NaN   \n",
       "3                NaN              NaN              NaN            NaN   \n",
       "4                NaN              NaN              NaN            NaN   \n",
       "\n",
       "   start_lat  start_lng  end_lat  end_lng member_casual  \n",
       "0      41.89     -87.62    41.91   -87.62        casual  \n",
       "1      41.91     -87.62    41.93   -87.63        casual  \n",
       "2      41.91     -87.65    41.89   -87.61        casual  \n",
       "3      41.80     -87.66    41.80   -87.65        casual  \n",
       "4      41.91     -87.63    41.93   -87.64        casual  "
      ]
     },
     "execution_count": 14,
     "metadata": {},
     "output_type": "execute_result"
    }
   ],
   "source": [
    "df.head()"
   ]
  },
  {
   "cell_type": "code",
   "execution_count": 15,
   "id": "e2ba8f67",
   "metadata": {
    "ExecuteTime": {
     "end_time": "2023-07-25T10:33:12.727444Z",
     "start_time": "2023-07-25T10:33:12.696228Z"
    }
   },
   "outputs": [
    {
     "name": "stdout",
     "output_type": "stream",
     "text": [
      "(5829030, 13)\n",
      "Data has 5829030 rows and 13 fields.\n"
     ]
    }
   ],
   "source": [
    "print(df.shape)\n",
    "print(f'Data has {df.shape[0]} rows and {df.shape[1]} fields.')"
   ]
  },
  {
   "cell_type": "markdown",
   "id": "17306a34",
   "metadata": {},
   "source": [
    "- Checking for NAs:"
   ]
  },
  {
   "cell_type": "code",
   "execution_count": 16,
   "id": "487de850",
   "metadata": {
    "ExecuteTime": {
     "end_time": "2023-07-25T10:33:16.754788Z",
     "start_time": "2023-07-25T10:33:14.116143Z"
    }
   },
   "outputs": [
    {
     "data": {
      "text/plain": [
       "ride_id                    0\n",
       "rideable_type              0\n",
       "started_at                 0\n",
       "ended_at                   0\n",
       "start_station_name    834545\n",
       "start_station_id      834677\n",
       "end_station_name      891757\n",
       "end_station_id        891898\n",
       "start_lat                  0\n",
       "start_lng                  0\n",
       "end_lat                 5961\n",
       "end_lng                 5961\n",
       "member_casual              0\n",
       "dtype: int64"
      ]
     },
     "execution_count": 16,
     "metadata": {},
     "output_type": "execute_result"
    }
   ],
   "source": [
    "df.isna().sum()"
   ]
  },
  {
   "cell_type": "markdown",
   "id": "2f0587e0",
   "metadata": {},
   "source": [
    "- Checking Duplicates:"
   ]
  },
  {
   "cell_type": "code",
   "execution_count": 17,
   "id": "82ca9e52",
   "metadata": {
    "ExecuteTime": {
     "end_time": "2023-07-25T10:33:40.517918Z",
     "start_time": "2023-07-25T10:33:21.569301Z"
    }
   },
   "outputs": [
    {
     "data": {
      "text/plain": [
       "0"
      ]
     },
     "execution_count": 17,
     "metadata": {},
     "output_type": "execute_result"
    }
   ],
   "source": [
    "df.duplicated().sum()"
   ]
  },
  {
   "cell_type": "markdown",
   "id": "4913fe51",
   "metadata": {},
   "source": [
    "- Checking data types:"
   ]
  },
  {
   "cell_type": "code",
   "execution_count": 18,
   "id": "90859050",
   "metadata": {
    "ExecuteTime": {
     "end_time": "2023-07-25T10:33:43.593488Z",
     "start_time": "2023-07-25T10:33:43.571326Z"
    }
   },
   "outputs": [
    {
     "data": {
      "text/plain": [
       "ride_id                object\n",
       "rideable_type          object\n",
       "started_at             object\n",
       "ended_at               object\n",
       "start_station_name     object\n",
       "start_station_id       object\n",
       "end_station_name       object\n",
       "end_station_id         object\n",
       "start_lat             float64\n",
       "start_lng             float64\n",
       "end_lat               float64\n",
       "end_lng               float64\n",
       "member_casual          object\n",
       "dtype: object"
      ]
     },
     "execution_count": 18,
     "metadata": {},
     "output_type": "execute_result"
    }
   ],
   "source": [
    "df.dtypes"
   ]
  },
  {
   "cell_type": "code",
   "execution_count": 19,
   "id": "101fd78e",
   "metadata": {
    "ExecuteTime": {
     "end_time": "2023-07-25T10:33:59.946650Z",
     "start_time": "2023-07-25T10:33:44.280180Z"
    }
   },
   "outputs": [],
   "source": [
    "df = df.astype({'ride_id':'str', \n",
    "                'rideable_type':'category', \n",
    "                'start_station_name':'category',\n",
    "                'end_station_name':'category',\n",
    "                'member_casual': 'category',\n",
    "                'start_station_id': 'category',\n",
    "                'end_station_id': 'category',\n",
    "                'start_lat': 'float32',\n",
    "                'start_lng': 'float32',\n",
    "                'end_lat': 'float32',\n",
    "                'end_lng': 'float32'})\n",
    "\n",
    "\n",
    "df.started_at = pd.to_datetime(df.started_at)\n",
    "df.ended_at = pd.to_datetime(df.ended_at)"
   ]
  },
  {
   "cell_type": "code",
   "execution_count": 20,
   "id": "872c3c54",
   "metadata": {
    "ExecuteTime": {
     "end_time": "2023-07-25T10:33:59.998022Z",
     "start_time": "2023-07-25T10:33:59.966753Z"
    }
   },
   "outputs": [
    {
     "data": {
      "text/plain": [
       "ride_id                       object\n",
       "rideable_type               category\n",
       "started_at            datetime64[ns]\n",
       "ended_at              datetime64[ns]\n",
       "start_station_name          category\n",
       "start_station_id            category\n",
       "end_station_name            category\n",
       "end_station_id              category\n",
       "start_lat                    float32\n",
       "start_lng                    float32\n",
       "end_lat                      float32\n",
       "end_lng                      float32\n",
       "member_casual               category\n",
       "dtype: object"
      ]
     },
     "execution_count": 20,
     "metadata": {},
     "output_type": "execute_result"
    }
   ],
   "source": [
    "df.dtypes"
   ]
  },
  {
   "cell_type": "markdown",
   "id": "581e2ad3",
   "metadata": {},
   "source": [
    "- Data contained in each field:"
   ]
  },
  {
   "cell_type": "code",
   "execution_count": 21,
   "id": "e179360f",
   "metadata": {
    "ExecuteTime": {
     "end_time": "2023-07-25T10:34:00.029270Z",
     "start_time": "2023-07-25T10:34:00.013645Z"
    }
   },
   "outputs": [],
   "source": [
    "feature_list = df.columns"
   ]
  },
  {
   "cell_type": "markdown",
   "id": "775b57f3",
   "metadata": {},
   "source": [
    "- For now, drop NaNs. We can try to recover NaN by cross-refferencing data:"
   ]
  },
  {
   "cell_type": "code",
   "execution_count": 44,
   "id": "6c20198f",
   "metadata": {
    "ExecuteTime": {
     "end_time": "2023-07-25T10:38:19.978612Z",
     "start_time": "2023-07-25T10:38:18.529097Z"
    }
   },
   "outputs": [],
   "source": [
    "df_clean = df.dropna().reset_index(drop = True)"
   ]
  },
  {
   "cell_type": "code",
   "execution_count": 45,
   "id": "76b9e9db",
   "metadata": {
    "ExecuteTime": {
     "end_time": "2023-07-25T10:38:21.340042Z",
     "start_time": "2023-07-25T10:38:20.722623Z"
    }
   },
   "outputs": [],
   "source": [
    "df_nan = df[df.isna().any(axis = 1)].reset_index(drop = True)\n"
   ]
  },
  {
   "cell_type": "code",
   "execution_count": 46,
   "id": "d637b6e6",
   "metadata": {
    "ExecuteTime": {
     "end_time": "2023-07-25T10:38:22.211479Z",
     "start_time": "2023-07-25T10:38:22.195845Z"
    }
   },
   "outputs": [
    {
     "name": "stdout",
     "output_type": "stream",
     "text": [
      "Total rows: 5,829,030\n",
      "Rows in nan dataset: 1,334,349\n",
      "Rows in clean dataset: 4,494,681\n"
     ]
    }
   ],
   "source": [
    "print(f'''Total rows: {df.shape[0]:,}\n",
    "Rows in nan dataset: {df_nan.shape[0]:,}\n",
    "Rows in clean dataset: {df_clean.shape[0]:,}''')"
   ]
  },
  {
   "cell_type": "markdown",
   "id": "d8b6a377",
   "metadata": {},
   "source": [
    "- Checking unique values:"
   ]
  },
  {
   "cell_type": "code",
   "execution_count": 26,
   "id": "75cd661b",
   "metadata": {
    "ExecuteTime": {
     "end_time": "2023-07-25T10:36:01.239849Z",
     "start_time": "2023-07-25T10:35:52.452195Z"
    }
   },
   "outputs": [
    {
     "name": "stdout",
     "output_type": "stream",
     "text": [
      "Feature -> ride_id: 4494681\n",
      "Feature -> rideable_type: 3\n",
      "['classic_bike', 'electric_bike', 'docked_bike']\n",
      "Categories (3, object): ['classic_bike', 'docked_bike', 'electric_bike']\n",
      "\n",
      "Feature -> started_at: 3905893\n",
      "Feature -> ended_at: 3919337\n",
      "Feature -> start_station_name: 1745\n",
      "Feature -> start_station_id: 1420\n",
      "Feature -> end_station_name: 1777\n",
      "Feature -> end_station_id: 1424\n",
      "Feature -> start_lat: 32084\n",
      "Feature -> start_lng: 15244\n",
      "Feature -> end_lat: 2868\n",
      "Feature -> end_lng: 2556\n",
      "Feature -> member_casual: 2\n",
      "['casual', 'member']\n",
      "Categories (2, object): ['casual', 'member']\n",
      "\n"
     ]
    }
   ],
   "source": [
    "for feature in feature_list:\n",
    "    print(f'Feature -> {feature}: {len(df_clean[feature].unique())}')\n",
    "    if len(df_clean[feature].unique()) < 5:\n",
    "        print(df_clean[feature].unique(),end = \"\\n\\n\")"
   ]
  },
  {
   "cell_type": "code",
   "execution_count": 30,
   "id": "afd9a15f",
   "metadata": {
    "ExecuteTime": {
     "end_time": "2023-07-25T10:36:48.474627Z",
     "start_time": "2023-07-25T10:36:48.459009Z"
    }
   },
   "outputs": [],
   "source": [
    "# df_clean.info(memory_usage='deep')  # have set types to category(RAM...)"
   ]
  },
  {
   "cell_type": "markdown",
   "id": "36280da5",
   "metadata": {},
   "source": [
    "- Now we generate a list of min/max values for some of the coordinates of starting locations"
   ]
  },
  {
   "cell_type": "code",
   "execution_count": 47,
   "id": "f490a45a",
   "metadata": {
    "ExecuteTime": {
     "end_time": "2023-07-25T10:38:28.444180Z",
     "start_time": "2023-07-25T10:38:28.212298Z"
    }
   },
   "outputs": [],
   "source": [
    "coord = df_clean[['start_lat','start_lng','start_station_id']].groupby('start_station_id').agg(['min','max','mean']).reset_index()\n",
    "coord.columns = ['_'.join(col).strip() for col in coord.columns.values]"
   ]
  },
  {
   "cell_type": "code",
   "execution_count": 48,
   "id": "34c3c435",
   "metadata": {
    "ExecuteTime": {
     "end_time": "2023-07-25T10:38:29.832918Z",
     "start_time": "2023-07-25T10:38:29.817278Z"
    }
   },
   "outputs": [],
   "source": [
    "df_nan_shot = df_nan.head().reset_index()"
   ]
  },
  {
   "cell_type": "code",
   "execution_count": 49,
   "id": "24b3980b",
   "metadata": {
    "ExecuteTime": {
     "end_time": "2023-07-25T10:38:30.249729Z",
     "start_time": "2023-07-25T10:38:30.234113Z"
    }
   },
   "outputs": [
    {
     "data": {
      "text/plain": [
       "Index(['start_station_id_', 'start_lat_min', 'start_lat_max', 'start_lat_mean',\n",
       "       'start_lng_min', 'start_lng_max', 'start_lng_mean'],\n",
       "      dtype='object')"
      ]
     },
     "execution_count": 49,
     "metadata": {},
     "output_type": "execute_result"
    }
   ],
   "source": [
    "coord.columns"
   ]
  },
  {
   "cell_type": "code",
   "execution_count": 50,
   "id": "bb1567e1",
   "metadata": {
    "ExecuteTime": {
     "end_time": "2023-07-25T10:38:30.751254Z",
     "start_time": "2023-07-25T10:38:30.720015Z"
    }
   },
   "outputs": [],
   "source": [
    "def check(lat,lng):\n",
    "    return (coord[(lat >= coord['start_lat_min'] ) &\n",
    "                (lat <= coord['start_lat_max'] ) &\n",
    "                (lng >= coord['start_lng_min'] ) &\n",
    "                (lng <= coord['start_lng_max'] ) ])\n",
    "    "
   ]
  },
  {
   "cell_type": "markdown",
   "id": "10cf0a73",
   "metadata": {},
   "source": [
    "# Features"
   ]
  },
  {
   "cell_type": "markdown",
   "id": "0e5a533f",
   "metadata": {
    "ExecuteTime": {
     "end_time": "2023-07-09T16:52:34.778211Z",
     "start_time": "2023-07-09T16:52:34.765212Z"
    }
   },
   "source": [
    "## Calculating Ride Duration"
   ]
  },
  {
   "cell_type": "code",
   "execution_count": 51,
   "id": "532f15d6",
   "metadata": {
    "ExecuteTime": {
     "end_time": "2023-07-25T10:38:33.733668Z",
     "start_time": "2023-07-25T10:38:33.614664Z"
    }
   },
   "outputs": [],
   "source": [
    "df_clean['duration'] = df_clean.ended_at - df_clean.started_at"
   ]
  },
  {
   "cell_type": "code",
   "execution_count": 52,
   "id": "04c21a23",
   "metadata": {
    "ExecuteTime": {
     "end_time": "2023-07-25T10:38:34.321664Z",
     "start_time": "2023-07-25T10:38:34.223675Z"
    }
   },
   "outputs": [],
   "source": [
    "df_clean['duration_days'] = df_clean.duration.dt.days"
   ]
  },
  {
   "cell_type": "code",
   "execution_count": 53,
   "id": "b854265b",
   "metadata": {
    "ExecuteTime": {
     "end_time": "2023-07-25T10:38:34.909357Z",
     "start_time": "2023-07-25T10:38:34.776360Z"
    }
   },
   "outputs": [],
   "source": [
    "df_clean['duration_minutes'] = df_clean.duration.dt.seconds / 60"
   ]
  },
  {
   "cell_type": "code",
   "execution_count": 54,
   "id": "c91a498d",
   "metadata": {
    "ExecuteTime": {
     "end_time": "2023-07-25T10:38:35.399363Z",
     "start_time": "2023-07-25T10:38:35.336381Z"
    }
   },
   "outputs": [],
   "source": [
    "df_clean['duration_minutes_tot'] = df_clean.duration_minutes + (df_clean.duration_days * 1440)"
   ]
  },
  {
   "cell_type": "markdown",
   "id": "c6062a50",
   "metadata": {},
   "source": [
    "## Calculating Distances"
   ]
  },
  {
   "cell_type": "code",
   "execution_count": 55,
   "id": "0a240758",
   "metadata": {
    "ExecuteTime": {
     "end_time": "2023-07-25T10:38:36.901421Z",
     "start_time": "2023-07-25T10:38:36.887383Z"
    }
   },
   "outputs": [],
   "source": [
    "# Inserting distances in df:\n",
    "\n",
    "run_this = False\n",
    "if run_this:\n",
    "    df_clean['distance'] = df_clean.apply(lambda row: geodesic(\n",
    "                                                               (row['start_lat'], row['start_lng']),\n",
    "                                                               (row['end_lat'], row['end_lng'])).meters,\n",
    "                                                               axis = 1)\n",
    "# 32min task                                      "
   ]
  },
  {
   "cell_type": "code",
   "execution_count": 56,
   "id": "9e2222e6",
   "metadata": {
    "ExecuteTime": {
     "end_time": "2023-07-25T10:38:39.888011Z",
     "start_time": "2023-07-25T10:38:39.881011Z"
    }
   },
   "outputs": [],
   "source": [
    "# df_clean.to_pickle('./workflow_data/df_clean.pkl')"
   ]
  },
  {
   "cell_type": "markdown",
   "id": "f568907f",
   "metadata": {},
   "source": [
    "## Working on dates"
   ]
  },
  {
   "cell_type": "code",
   "execution_count": 57,
   "id": "17473f7d",
   "metadata": {
    "ExecuteTime": {
     "end_time": "2023-07-25T10:38:42.346592Z",
     "start_time": "2023-07-25T10:38:40.700010Z"
    }
   },
   "outputs": [],
   "source": [
    "df_clean['day'] = df_clean['started_at'].dt.day\n",
    "df_clean['month'] = df_clean['started_at'].dt.month\n",
    "df_clean['year'] = df_clean['started_at'].dt.year\n",
    "df_clean['dow'] = df_clean['started_at'].dt.dayofweek  #  Monday=0, Sunday=6."
   ]
  },
  {
   "cell_type": "code",
   "execution_count": 58,
   "id": "1a3eb6c6",
   "metadata": {
    "ExecuteTime": {
     "end_time": "2023-07-25T10:38:45.168292Z",
     "start_time": "2023-07-25T10:38:45.133270Z"
    }
   },
   "outputs": [
    {
     "data": {
      "text/html": [
       "<div>\n",
       "<style scoped>\n",
       "    .dataframe tbody tr th:only-of-type {\n",
       "        vertical-align: middle;\n",
       "    }\n",
       "\n",
       "    .dataframe tbody tr th {\n",
       "        vertical-align: top;\n",
       "    }\n",
       "\n",
       "    .dataframe thead th {\n",
       "        text-align: right;\n",
       "    }\n",
       "</style>\n",
       "<table border=\"1\" class=\"dataframe\">\n",
       "  <thead>\n",
       "    <tr style=\"text-align: right;\">\n",
       "      <th></th>\n",
       "      <th>ride_id</th>\n",
       "      <th>rideable_type</th>\n",
       "      <th>started_at</th>\n",
       "      <th>ended_at</th>\n",
       "      <th>start_station_name</th>\n",
       "      <th>start_station_id</th>\n",
       "      <th>end_station_name</th>\n",
       "      <th>end_station_id</th>\n",
       "      <th>start_lat</th>\n",
       "      <th>start_lng</th>\n",
       "      <th>...</th>\n",
       "      <th>end_lng</th>\n",
       "      <th>member_casual</th>\n",
       "      <th>duration</th>\n",
       "      <th>duration_days</th>\n",
       "      <th>duration_minutes</th>\n",
       "      <th>duration_minutes_tot</th>\n",
       "      <th>day</th>\n",
       "      <th>month</th>\n",
       "      <th>year</th>\n",
       "      <th>dow</th>\n",
       "    </tr>\n",
       "  </thead>\n",
       "  <tbody>\n",
       "    <tr>\n",
       "      <th>4494676</th>\n",
       "      <td>AFA79AAD52DC38CA</td>\n",
       "      <td>electric_bike</td>\n",
       "      <td>2023-05-16 20:08:42</td>\n",
       "      <td>2023-05-16 20:11:34</td>\n",
       "      <td>Kedzie Ave &amp; Chicago Ave</td>\n",
       "      <td>KA1504000114</td>\n",
       "      <td>Kedzie Ave &amp; Lake St</td>\n",
       "      <td>KA1504000106</td>\n",
       "      <td>41.895531</td>\n",
       "      <td>-87.706161</td>\n",
       "      <td>...</td>\n",
       "      <td>-87.706306</td>\n",
       "      <td>member</td>\n",
       "      <td>0 days 00:02:52</td>\n",
       "      <td>0</td>\n",
       "      <td>2.866667</td>\n",
       "      <td>2.866667</td>\n",
       "      <td>16</td>\n",
       "      <td>5</td>\n",
       "      <td>2023</td>\n",
       "      <td>1</td>\n",
       "    </tr>\n",
       "    <tr>\n",
       "      <th>4494677</th>\n",
       "      <td>EDD9F6FAF495D461</td>\n",
       "      <td>electric_bike</td>\n",
       "      <td>2023-05-16 20:08:31</td>\n",
       "      <td>2023-05-16 20:11:39</td>\n",
       "      <td>Kedzie Ave &amp; Chicago Ave</td>\n",
       "      <td>KA1504000114</td>\n",
       "      <td>Kedzie Ave &amp; Lake St</td>\n",
       "      <td>KA1504000106</td>\n",
       "      <td>41.895527</td>\n",
       "      <td>-87.706161</td>\n",
       "      <td>...</td>\n",
       "      <td>-87.706306</td>\n",
       "      <td>member</td>\n",
       "      <td>0 days 00:03:08</td>\n",
       "      <td>0</td>\n",
       "      <td>3.133333</td>\n",
       "      <td>3.133333</td>\n",
       "      <td>16</td>\n",
       "      <td>5</td>\n",
       "      <td>2023</td>\n",
       "      <td>1</td>\n",
       "    </tr>\n",
       "    <tr>\n",
       "      <th>4494678</th>\n",
       "      <td>DD4936C828A456BB</td>\n",
       "      <td>electric_bike</td>\n",
       "      <td>2023-05-17 22:32:41</td>\n",
       "      <td>2023-05-17 22:37:20</td>\n",
       "      <td>Kedzie Ave &amp; Chicago Ave</td>\n",
       "      <td>KA1504000114</td>\n",
       "      <td>Kedzie Ave &amp; Lake St</td>\n",
       "      <td>KA1504000106</td>\n",
       "      <td>41.895462</td>\n",
       "      <td>-87.706169</td>\n",
       "      <td>...</td>\n",
       "      <td>-87.706306</td>\n",
       "      <td>casual</td>\n",
       "      <td>0 days 00:04:39</td>\n",
       "      <td>0</td>\n",
       "      <td>4.650000</td>\n",
       "      <td>4.650000</td>\n",
       "      <td>17</td>\n",
       "      <td>5</td>\n",
       "      <td>2023</td>\n",
       "      <td>2</td>\n",
       "    </tr>\n",
       "    <tr>\n",
       "      <th>4494679</th>\n",
       "      <td>3FA477DB3AD55E63</td>\n",
       "      <td>electric_bike</td>\n",
       "      <td>2023-05-27 21:10:14</td>\n",
       "      <td>2023-05-27 21:15:46</td>\n",
       "      <td>Kedzie Ave &amp; Chicago Ave</td>\n",
       "      <td>KA1504000114</td>\n",
       "      <td>Kedzie Ave &amp; Lake St</td>\n",
       "      <td>KA1504000106</td>\n",
       "      <td>41.895424</td>\n",
       "      <td>-87.706085</td>\n",
       "      <td>...</td>\n",
       "      <td>-87.706306</td>\n",
       "      <td>casual</td>\n",
       "      <td>0 days 00:05:32</td>\n",
       "      <td>0</td>\n",
       "      <td>5.533333</td>\n",
       "      <td>5.533333</td>\n",
       "      <td>27</td>\n",
       "      <td>5</td>\n",
       "      <td>2023</td>\n",
       "      <td>5</td>\n",
       "    </tr>\n",
       "    <tr>\n",
       "      <th>4494680</th>\n",
       "      <td>91F79BE154023A2F</td>\n",
       "      <td>classic_bike</td>\n",
       "      <td>2023-05-18 15:07:56</td>\n",
       "      <td>2023-05-18 15:16:20</td>\n",
       "      <td>Greenwood Ave &amp; 47th St</td>\n",
       "      <td>TA1308000002</td>\n",
       "      <td>Cottage Grove Ave &amp; 51st St</td>\n",
       "      <td>TA1309000067</td>\n",
       "      <td>41.809834</td>\n",
       "      <td>-87.599380</td>\n",
       "      <td>...</td>\n",
       "      <td>-87.606613</td>\n",
       "      <td>member</td>\n",
       "      <td>0 days 00:08:24</td>\n",
       "      <td>0</td>\n",
       "      <td>8.400000</td>\n",
       "      <td>8.400000</td>\n",
       "      <td>18</td>\n",
       "      <td>5</td>\n",
       "      <td>2023</td>\n",
       "      <td>3</td>\n",
       "    </tr>\n",
       "  </tbody>\n",
       "</table>\n",
       "<p>5 rows × 21 columns</p>\n",
       "</div>"
      ],
      "text/plain": [
       "                  ride_id  rideable_type          started_at   \n",
       "4494676  AFA79AAD52DC38CA  electric_bike 2023-05-16 20:08:42  \\\n",
       "4494677  EDD9F6FAF495D461  electric_bike 2023-05-16 20:08:31   \n",
       "4494678  DD4936C828A456BB  electric_bike 2023-05-17 22:32:41   \n",
       "4494679  3FA477DB3AD55E63  electric_bike 2023-05-27 21:10:14   \n",
       "4494680  91F79BE154023A2F   classic_bike 2023-05-18 15:07:56   \n",
       "\n",
       "                   ended_at        start_station_name start_station_id   \n",
       "4494676 2023-05-16 20:11:34  Kedzie Ave & Chicago Ave     KA1504000114  \\\n",
       "4494677 2023-05-16 20:11:39  Kedzie Ave & Chicago Ave     KA1504000114   \n",
       "4494678 2023-05-17 22:37:20  Kedzie Ave & Chicago Ave     KA1504000114   \n",
       "4494679 2023-05-27 21:15:46  Kedzie Ave & Chicago Ave     KA1504000114   \n",
       "4494680 2023-05-18 15:16:20   Greenwood Ave & 47th St     TA1308000002   \n",
       "\n",
       "                    end_station_name end_station_id  start_lat  start_lng   \n",
       "4494676         Kedzie Ave & Lake St   KA1504000106  41.895531 -87.706161  \\\n",
       "4494677         Kedzie Ave & Lake St   KA1504000106  41.895527 -87.706161   \n",
       "4494678         Kedzie Ave & Lake St   KA1504000106  41.895462 -87.706169   \n",
       "4494679         Kedzie Ave & Lake St   KA1504000106  41.895424 -87.706085   \n",
       "4494680  Cottage Grove Ave & 51st St   TA1309000067  41.809834 -87.599380   \n",
       "\n",
       "         ...    end_lng  member_casual        duration duration_days   \n",
       "4494676  ... -87.706306         member 0 days 00:02:52             0  \\\n",
       "4494677  ... -87.706306         member 0 days 00:03:08             0   \n",
       "4494678  ... -87.706306         casual 0 days 00:04:39             0   \n",
       "4494679  ... -87.706306         casual 0 days 00:05:32             0   \n",
       "4494680  ... -87.606613         member 0 days 00:08:24             0   \n",
       "\n",
       "         duration_minutes  duration_minutes_tot  day  month  year  dow  \n",
       "4494676          2.866667              2.866667   16      5  2023    1  \n",
       "4494677          3.133333              3.133333   16      5  2023    1  \n",
       "4494678          4.650000              4.650000   17      5  2023    2  \n",
       "4494679          5.533333              5.533333   27      5  2023    5  \n",
       "4494680          8.400000              8.400000   18      5  2023    3  \n",
       "\n",
       "[5 rows x 21 columns]"
      ]
     },
     "execution_count": 58,
     "metadata": {},
     "output_type": "execute_result"
    }
   ],
   "source": [
    "df_clean.tail()"
   ]
  },
  {
   "cell_type": "code",
   "execution_count": 59,
   "id": "a8f9ad33",
   "metadata": {
    "ExecuteTime": {
     "end_time": "2023-07-25T10:39:48.785586Z",
     "start_time": "2023-07-25T10:39:00.773301Z"
    }
   },
   "outputs": [],
   "source": [
    "# Reading previously saved pickle, this overrides df_clean(pre-saved df_clean):\n",
    "df_clean = pd.read_pickle('./workflow_data/df_clean.pkl')  #45s"
   ]
  },
  {
   "cell_type": "markdown",
   "id": "2457e26a",
   "metadata": {},
   "source": [
    "# Descriptive Statistics"
   ]
  },
  {
   "cell_type": "code",
   "execution_count": 62,
   "id": "c55f7fbf",
   "metadata": {
    "ExecuteTime": {
     "end_time": "2023-07-25T10:40:09.069985Z",
     "start_time": "2023-07-25T10:40:09.049986Z"
    }
   },
   "outputs": [
    {
     "data": {
      "text/plain": [
       "ride_id                          object\n",
       "rideable_type                  category\n",
       "started_at               datetime64[ns]\n",
       "ended_at                 datetime64[ns]\n",
       "start_station_name             category\n",
       "start_station_id               category\n",
       "end_station_name               category\n",
       "end_station_id                 category\n",
       "start_lat                       float32\n",
       "start_lng                       float32\n",
       "end_lat                         float32\n",
       "end_lng                         float32\n",
       "member_casual                  category\n",
       "duration                timedelta64[ns]\n",
       "distance                        float64\n",
       "duration_days                     int64\n",
       "duration_minutes                float64\n",
       "duration_minutes_tot            float64\n",
       "day                               int32\n",
       "month                             int32\n",
       "year                              int32\n",
       "dow                               int32\n",
       "dtype: object"
      ]
     },
     "execution_count": 62,
     "metadata": {},
     "output_type": "execute_result"
    }
   ],
   "source": [
    "df_clean.dtypes"
   ]
  },
  {
   "cell_type": "code",
   "execution_count": 63,
   "id": "9580c0ae",
   "metadata": {
    "ExecuteTime": {
     "end_time": "2023-07-25T10:40:10.806122Z",
     "start_time": "2023-07-25T10:40:10.730117Z"
    }
   },
   "outputs": [],
   "source": [
    "num_attributes = df_clean[['duration_minutes_tot','distance']]"
   ]
  },
  {
   "cell_type": "code",
   "execution_count": 64,
   "id": "8ee17207",
   "metadata": {
    "ExecuteTime": {
     "end_time": "2023-07-25T10:40:14.153628Z",
     "start_time": "2023-07-25T10:40:11.283519Z"
    }
   },
   "outputs": [],
   "source": [
    "ct1 = pd.DataFrame(num_attributes.apply(np.mean)).T\n",
    "ct2 = pd.DataFrame(num_attributes.apply(np.median)).T\n",
    "\n",
    "d1 = pd.DataFrame(num_attributes.apply(np.std)).T\n",
    "d2 = pd.DataFrame(num_attributes.apply(min)).T\n",
    "d3 = pd.DataFrame(num_attributes.apply(max)).T\n",
    "d4 = pd.DataFrame(num_attributes.apply(lambda x: x.max() - x.min() )).T\n",
    "d5 = pd.DataFrame(num_attributes.apply(lambda x: x.skew() )).T\n",
    "d6 = pd.DataFrame(num_attributes.apply(lambda x: x.kurtosis() )).T\n",
    "\n"
   ]
  },
  {
   "cell_type": "code",
   "execution_count": 299,
   "id": "8b54f270",
   "metadata": {
    "ExecuteTime": {
     "end_time": "2023-07-26T19:13:11.445467Z",
     "start_time": "2023-07-26T19:13:10.952966Z"
    }
   },
   "outputs": [
    {
     "data": {
      "text/html": [
       "<div>\n",
       "<style scoped>\n",
       "    .dataframe tbody tr th:only-of-type {\n",
       "        vertical-align: middle;\n",
       "    }\n",
       "\n",
       "    .dataframe tbody tr th {\n",
       "        vertical-align: top;\n",
       "    }\n",
       "\n",
       "    .dataframe thead th {\n",
       "        text-align: right;\n",
       "    }\n",
       "</style>\n",
       "<table border=\"1\" class=\"dataframe\">\n",
       "  <thead>\n",
       "    <tr style=\"text-align: right;\">\n",
       "      <th></th>\n",
       "      <th>attribute</th>\n",
       "      <th>min</th>\n",
       "      <th>max</th>\n",
       "      <th>range</th>\n",
       "      <th>mean</th>\n",
       "      <th>median</th>\n",
       "      <th>std</th>\n",
       "      <th>skew</th>\n",
       "      <th>kurtosis</th>\n",
       "    </tr>\n",
       "  </thead>\n",
       "  <tbody>\n",
       "    <tr>\n",
       "      <th>0</th>\n",
       "      <td>duration_minutes_tot</td>\n",
       "      <td>-168.70</td>\n",
       "      <td>32035.45</td>\n",
       "      <td>32204.15</td>\n",
       "      <td>16.29</td>\n",
       "      <td>10.15</td>\n",
       "      <td>36.23</td>\n",
       "      <td>190.39</td>\n",
       "      <td>142819.40</td>\n",
       "    </tr>\n",
       "    <tr>\n",
       "      <th>1</th>\n",
       "      <td>distance</td>\n",
       "      <td>0.00</td>\n",
       "      <td>9817319.18</td>\n",
       "      <td>9817319.18</td>\n",
       "      <td>2086.09</td>\n",
       "      <td>1542.34</td>\n",
       "      <td>13223.37</td>\n",
       "      <td>727.60</td>\n",
       "      <td>539987.68</td>\n",
       "    </tr>\n",
       "  </tbody>\n",
       "</table>\n",
       "</div>"
      ],
      "text/plain": [
       "              attribute     min        max      range    mean  median   \n",
       "0  duration_minutes_tot -168.70   32035.45   32204.15   16.29   10.15  \\\n",
       "1              distance    0.00 9817319.18 9817319.18 2086.09 1542.34   \n",
       "\n",
       "       std   skew  kurtosis  \n",
       "0    36.23 190.39 142819.40  \n",
       "1 13223.37 727.60 539987.68  "
      ]
     },
     "execution_count": 299,
     "metadata": {},
     "output_type": "execute_result"
    }
   ],
   "source": [
    "m = pd.concat([d2, d3, d4,ct1,ct2,d1,d5,d6]).T.reset_index()\n",
    "m.columns = ['attribute', 'min', 'max', 'range','mean', 'median', 'std', 'skew', 'kurtosis']\n",
    "pd.options.display.float_format = '{:.2f}'.format\n",
    "m"
   ]
  },
  {
   "cell_type": "markdown",
   "id": "bbf58006",
   "metadata": {},
   "source": [
    "- There are some strange observations, like negative numbers in the amount of time a bike has been used. And a maximum distance distances of roughtly 9.800km."
   ]
  },
  {
   "cell_type": "code",
   "execution_count": 65,
   "id": "73538727",
   "metadata": {
    "ExecuteTime": {
     "end_time": "2023-07-25T10:40:37.318934Z",
     "start_time": "2023-07-25T10:40:37.300934Z"
    }
   },
   "outputs": [],
   "source": [
    "# df_clean[df_clean['duration_minutes_tot'] < 3]"
   ]
  },
  {
   "cell_type": "markdown",
   "id": "724539e0",
   "metadata": {},
   "source": [
    "### Categotical Attributes"
   ]
  },
  {
   "cell_type": "code",
   "execution_count": 66,
   "id": "273431a2",
   "metadata": {
    "ExecuteTime": {
     "end_time": "2023-07-25T10:40:41.257380Z",
     "start_time": "2023-07-25T10:40:41.245377Z"
    }
   },
   "outputs": [
    {
     "data": {
      "text/plain": [
       "Index(['ride_id', 'rideable_type', 'started_at', 'ended_at',\n",
       "       'start_station_name', 'start_station_id', 'end_station_name',\n",
       "       'end_station_id', 'start_lat', 'start_lng', 'end_lat', 'end_lng',\n",
       "       'member_casual', 'duration', 'distance', 'duration_days',\n",
       "       'duration_minutes', 'duration_minutes_tot', 'day', 'month', 'year',\n",
       "       'dow'],\n",
       "      dtype='object')"
      ]
     },
     "execution_count": 66,
     "metadata": {},
     "output_type": "execute_result"
    }
   ],
   "source": [
    "df_clean.columns"
   ]
  },
  {
   "cell_type": "code",
   "execution_count": 67,
   "id": "7da2d061",
   "metadata": {
    "ExecuteTime": {
     "end_time": "2023-07-25T10:40:49.662230Z",
     "start_time": "2023-07-25T10:40:43.688338Z"
    }
   },
   "outputs": [
    {
     "data": {
      "image/png": "[encoded data removed]",
      "text/plain": [
       "<Figure size 640x480 with 4 Axes>"
      ]
     },
     "metadata": {},
     "output_type": "display_data"
    }
   ],
   "source": [
    "plt.suptitle(\"Boxplot categorical variables\")\n",
    "sb.set(font_scale = .7)\n",
    "plt.subplot(2,2,1)\n",
    "sb.boxplot(x = 'member_casual', y = 'duration_minutes_tot', data = df_clean)\n",
    "plt.subplot(2,2,2)\n",
    "sb.boxplot(x = 'rideable_type', y = 'duration_minutes_tot', data = df_clean)\n",
    "plt.subplot(2,2,3)\n",
    "sb.boxplot(x = 'member_casual', y = 'distance', data = df_clean)\n",
    "plt.subplot(2,2,4)\n",
    "sb.boxplot(x = 'rideable_type', y = 'distance', data = df_clean)\n",
    "plt.tight_layout(pad=2.6)\n",
    "plt.show()"
   ]
  },
  {
   "cell_type": "markdown",
   "id": "b2b921d9",
   "metadata": {},
   "source": [
    "- Outliers need to be treated"
   ]
  },
  {
   "cell_type": "markdown",
   "id": "2400bf3e",
   "metadata": {},
   "source": [
    "- Following a similat approach we can do the same for distance, we are not applying a bottom cutoff, since some bikes might be returned to the same location, and the bottom duration cutoff would take care of non usual cases already."
   ]
  },
  {
   "cell_type": "markdown",
   "id": "66c6ef99",
   "metadata": {},
   "source": [
    "## Eliminating Outliers"
   ]
  },
  {
   "cell_type": "code",
   "execution_count": 68,
   "id": "9527d0f3",
   "metadata": {
    "ExecuteTime": {
     "end_time": "2023-07-25T10:41:01.392386Z",
     "start_time": "2023-07-25T10:40:57.983643Z"
    }
   },
   "outputs": [
    {
     "data": {
      "image/png": "[encoded data removed]",
      "text/plain": [
       "<Figure size 640x480 with 2 Axes>"
      ]
     },
     "metadata": {},
     "output_type": "display_data"
    },
    {
     "name": "stdout",
     "output_type": "stream",
     "text": [
      "duration_minutes_tot has 338171 outliers\n",
      "distance has 255425 outliers\n"
     ]
    }
   ],
   "source": [
    "plt.suptitle(\"Ride Duration and Distance before treatment\")\n",
    "plt.subplot(2,1,1)\n",
    "box_and_whisker(df_clean, 'duration_minutes_tot')\n",
    "plt.subplot(2,1,2)\n",
    "box_and_whisker(df_clean, 'distance')\n",
    "plt.tight_layout(pad=3.0)\n",
    "plt.show()\n",
    "print(f\"duration_minutes_tot has {count_outliers(df_clean, 'duration_minutes_tot')} outliers\")\n",
    "print(f\"distance has {count_outliers(df_clean, 'distance')} outliers\")"
   ]
  },
  {
   "cell_type": "code",
   "execution_count": 69,
   "id": "344e07f8",
   "metadata": {
    "ExecuteTime": {
     "end_time": "2023-07-25T10:41:45.840769Z",
     "start_time": "2023-07-25T10:41:28.038407Z"
    },
    "scrolled": false
   },
   "outputs": [
    {
     "name": "stdout",
     "output_type": "stream",
     "text": [
      "rows before removing: 4494681\n",
      "rows after removing: 3611794\n"
     ]
    },
    {
     "data": {
      "image/png": "[encoded data removed]",
      "text/plain": [
       "<Figure size 640x480 with 2 Axes>"
      ]
     },
     "metadata": {},
     "output_type": "display_data"
    }
   ],
   "source": [
    "# Removing outliers\n",
    "print(f\"rows before removing: {df_clean.shape[0]}\")\n",
    "dfa = remove_all_outliers(df_clean, 'distance')\n",
    "dfa = remove_all_outliers(dfa, 'duration_minutes_tot')\n",
    "print(f\"rows after removing: {dfa.shape[0]}\")\n",
    "\n",
    "\n",
    "# Plotting ending result\n",
    "plt.subplot(2,1,1)\n",
    "box_and_whisker(dfa, 'duration_minutes_tot')\n",
    "plt.subplot(2,1,2)\n",
    "box_and_whisker(dfa, 'distance')\n",
    "plt.tight_layout(pad=3.0)\n",
    "plt.show()\n"
   ]
  },
  {
   "cell_type": "markdown",
   "id": "0f77a7a0",
   "metadata": {
    "ExecuteTime": {
     "end_time": "2023-07-10T16:15:44.016595Z",
     "start_time": "2023-07-10T16:15:44.001595Z"
    }
   },
   "source": [
    "- All ouliers were removed for both variables, however since we are removing outliers on 2 different features, once we were done removing\n",
    "the outliers for distance, a new outlier clean-up was executed on duration_minutes_tot. This will generate new outlines since it will change the data."
   ]
  },
  {
   "cell_type": "markdown",
   "id": "19475c63",
   "metadata": {},
   "source": [
    "# Analysis"
   ]
  },
  {
   "cell_type": "code",
   "execution_count": 70,
   "id": "7eddeee4",
   "metadata": {
    "ExecuteTime": {
     "end_time": "2023-07-25T10:41:50.837595Z",
     "start_time": "2023-07-25T10:41:50.781599Z"
    }
   },
   "outputs": [
    {
     "data": {
      "text/html": [
       "<div>\n",
       "<style scoped>\n",
       "    .dataframe tbody tr th:only-of-type {\n",
       "        vertical-align: middle;\n",
       "    }\n",
       "\n",
       "    .dataframe tbody tr th {\n",
       "        vertical-align: top;\n",
       "    }\n",
       "\n",
       "    .dataframe thead th {\n",
       "        text-align: right;\n",
       "    }\n",
       "</style>\n",
       "<table border=\"1\" class=\"dataframe\">\n",
       "  <thead>\n",
       "    <tr style=\"text-align: right;\">\n",
       "      <th></th>\n",
       "      <th>ride_id</th>\n",
       "      <th>rideable_type</th>\n",
       "      <th>started_at</th>\n",
       "      <th>ended_at</th>\n",
       "      <th>start_station_name</th>\n",
       "      <th>start_station_id</th>\n",
       "      <th>end_station_name</th>\n",
       "      <th>end_station_id</th>\n",
       "      <th>start_lat</th>\n",
       "      <th>start_lng</th>\n",
       "      <th>...</th>\n",
       "      <th>member_casual</th>\n",
       "      <th>duration</th>\n",
       "      <th>distance</th>\n",
       "      <th>duration_days</th>\n",
       "      <th>duration_minutes</th>\n",
       "      <th>duration_minutes_tot</th>\n",
       "      <th>day</th>\n",
       "      <th>month</th>\n",
       "      <th>year</th>\n",
       "      <th>dow</th>\n",
       "    </tr>\n",
       "  </thead>\n",
       "  <tbody>\n",
       "    <tr>\n",
       "      <th>0</th>\n",
       "      <td>B12AD6565494C368</td>\n",
       "      <td>classic_bike</td>\n",
       "      <td>2022-06-09 22:28:32</td>\n",
       "      <td>2022-06-09 22:52:17</td>\n",
       "      <td>California Ave &amp; Milwaukee Ave</td>\n",
       "      <td>13084</td>\n",
       "      <td>California Ave &amp; Milwaukee Ave</td>\n",
       "      <td>13084</td>\n",
       "      <td>41.922695</td>\n",
       "      <td>-87.697151</td>\n",
       "      <td>...</td>\n",
       "      <td>casual</td>\n",
       "      <td>0 days 00:23:45</td>\n",
       "      <td>0.000000</td>\n",
       "      <td>0</td>\n",
       "      <td>23.750000</td>\n",
       "      <td>23.750000</td>\n",
       "      <td>9</td>\n",
       "      <td>6</td>\n",
       "      <td>2022</td>\n",
       "      <td>3</td>\n",
       "    </tr>\n",
       "    <tr>\n",
       "      <th>1</th>\n",
       "      <td>BAD4CB075003A605</td>\n",
       "      <td>electric_bike</td>\n",
       "      <td>2022-06-19 17:08:23</td>\n",
       "      <td>2022-06-19 17:08:25</td>\n",
       "      <td>California Ave &amp; Milwaukee Ave</td>\n",
       "      <td>13084</td>\n",
       "      <td>California Ave &amp; Milwaukee Ave</td>\n",
       "      <td>13084</td>\n",
       "      <td>41.922615</td>\n",
       "      <td>-87.697151</td>\n",
       "      <td>...</td>\n",
       "      <td>casual</td>\n",
       "      <td>0 days 00:00:02</td>\n",
       "      <td>8.897810</td>\n",
       "      <td>0</td>\n",
       "      <td>0.033333</td>\n",
       "      <td>0.033333</td>\n",
       "      <td>19</td>\n",
       "      <td>6</td>\n",
       "      <td>2022</td>\n",
       "      <td>6</td>\n",
       "    </tr>\n",
       "    <tr>\n",
       "      <th>2</th>\n",
       "      <td>76DAD9FC95774B53</td>\n",
       "      <td>electric_bike</td>\n",
       "      <td>2022-06-26 23:59:44</td>\n",
       "      <td>2022-06-27 00:25:26</td>\n",
       "      <td>Burnham Greenway &amp; 105th St</td>\n",
       "      <td>20222</td>\n",
       "      <td>Burnham Greenway &amp; 105th St</td>\n",
       "      <td>20222</td>\n",
       "      <td>41.704628</td>\n",
       "      <td>-87.528412</td>\n",
       "      <td>...</td>\n",
       "      <td>casual</td>\n",
       "      <td>0 days 00:25:42</td>\n",
       "      <td>16.354016</td>\n",
       "      <td>0</td>\n",
       "      <td>25.700000</td>\n",
       "      <td>25.700000</td>\n",
       "      <td>26</td>\n",
       "      <td>6</td>\n",
       "      <td>2022</td>\n",
       "      <td>6</td>\n",
       "    </tr>\n",
       "    <tr>\n",
       "      <th>3</th>\n",
       "      <td>47DE68ACCA138C13</td>\n",
       "      <td>electric_bike</td>\n",
       "      <td>2022-06-27 11:40:53</td>\n",
       "      <td>2022-06-27 11:50:16</td>\n",
       "      <td>Wood St &amp; Chicago Ave</td>\n",
       "      <td>637</td>\n",
       "      <td>California Ave &amp; Division St</td>\n",
       "      <td>13256</td>\n",
       "      <td>41.895611</td>\n",
       "      <td>-87.672096</td>\n",
       "      <td>...</td>\n",
       "      <td>casual</td>\n",
       "      <td>0 days 00:09:23</td>\n",
       "      <td>2261.201191</td>\n",
       "      <td>0</td>\n",
       "      <td>9.383333</td>\n",
       "      <td>9.383333</td>\n",
       "      <td>27</td>\n",
       "      <td>6</td>\n",
       "      <td>2022</td>\n",
       "      <td>0</td>\n",
       "    </tr>\n",
       "    <tr>\n",
       "      <th>4</th>\n",
       "      <td>5D899636D3334ED5</td>\n",
       "      <td>classic_bike</td>\n",
       "      <td>2022-06-27 16:01:13</td>\n",
       "      <td>2022-06-27 16:35:56</td>\n",
       "      <td>California Ave &amp; Division St</td>\n",
       "      <td>13256</td>\n",
       "      <td>California Ave &amp; Division St</td>\n",
       "      <td>13256</td>\n",
       "      <td>41.903030</td>\n",
       "      <td>-87.697472</td>\n",
       "      <td>...</td>\n",
       "      <td>casual</td>\n",
       "      <td>0 days 00:34:43</td>\n",
       "      <td>0.000000</td>\n",
       "      <td>0</td>\n",
       "      <td>34.716667</td>\n",
       "      <td>34.716667</td>\n",
       "      <td>27</td>\n",
       "      <td>6</td>\n",
       "      <td>2022</td>\n",
       "      <td>0</td>\n",
       "    </tr>\n",
       "  </tbody>\n",
       "</table>\n",
       "<p>5 rows × 22 columns</p>\n",
       "</div>"
      ],
      "text/plain": [
       "            ride_id  rideable_type          started_at            ended_at   \n",
       "0  B12AD6565494C368   classic_bike 2022-06-09 22:28:32 2022-06-09 22:52:17  \\\n",
       "1  BAD4CB075003A605  electric_bike 2022-06-19 17:08:23 2022-06-19 17:08:25   \n",
       "2  76DAD9FC95774B53  electric_bike 2022-06-26 23:59:44 2022-06-27 00:25:26   \n",
       "3  47DE68ACCA138C13  electric_bike 2022-06-27 11:40:53 2022-06-27 11:50:16   \n",
       "4  5D899636D3334ED5   classic_bike 2022-06-27 16:01:13 2022-06-27 16:35:56   \n",
       "\n",
       "               start_station_name start_station_id   \n",
       "0  California Ave & Milwaukee Ave            13084  \\\n",
       "1  California Ave & Milwaukee Ave            13084   \n",
       "2     Burnham Greenway & 105th St            20222   \n",
       "3           Wood St & Chicago Ave              637   \n",
       "4    California Ave & Division St            13256   \n",
       "\n",
       "                 end_station_name end_station_id  start_lat  start_lng  ...   \n",
       "0  California Ave & Milwaukee Ave          13084  41.922695 -87.697151  ...  \\\n",
       "1  California Ave & Milwaukee Ave          13084  41.922615 -87.697151  ...   \n",
       "2     Burnham Greenway & 105th St          20222  41.704628 -87.528412  ...   \n",
       "3    California Ave & Division St          13256  41.895611 -87.672096  ...   \n",
       "4    California Ave & Division St          13256  41.903030 -87.697472  ...   \n",
       "\n",
       "   member_casual        duration     distance duration_days  duration_minutes   \n",
       "0         casual 0 days 00:23:45     0.000000             0         23.750000  \\\n",
       "1         casual 0 days 00:00:02     8.897810             0          0.033333   \n",
       "2         casual 0 days 00:25:42    16.354016             0         25.700000   \n",
       "3         casual 0 days 00:09:23  2261.201191             0          9.383333   \n",
       "4         casual 0 days 00:34:43     0.000000             0         34.716667   \n",
       "\n",
       "   duration_minutes_tot  day  month  year  dow  \n",
       "0             23.750000    9      6  2022    3  \n",
       "1              0.033333   19      6  2022    6  \n",
       "2             25.700000   26      6  2022    6  \n",
       "3              9.383333   27      6  2022    0  \n",
       "4             34.716667   27      6  2022    0  \n",
       "\n",
       "[5 rows x 22 columns]"
      ]
     },
     "execution_count": 70,
     "metadata": {},
     "output_type": "execute_result"
    }
   ],
   "source": [
    "df_clean.head()"
   ]
  },
  {
   "cell_type": "markdown",
   "id": "81b33ada",
   "metadata": {
    "ExecuteTime": {
     "end_time": "2023-07-12T13:26:02.217774Z",
     "start_time": "2023-07-12T13:26:02.199644Z"
    }
   },
   "source": [
    "### Usage overview"
   ]
  },
  {
   "cell_type": "code",
   "execution_count": 71,
   "id": "f0910898",
   "metadata": {
    "ExecuteTime": {
     "end_time": "2023-07-25T10:42:19.177137Z",
     "start_time": "2023-07-25T10:42:18.817123Z"
    }
   },
   "outputs": [
    {
     "data": {
      "text/html": [
       "<div>\n",
       "<style scoped>\n",
       "    .dataframe tbody tr th:only-of-type {\n",
       "        vertical-align: middle;\n",
       "    }\n",
       "\n",
       "    .dataframe tbody tr th {\n",
       "        vertical-align: top;\n",
       "    }\n",
       "\n",
       "    .dataframe thead th {\n",
       "        text-align: right;\n",
       "    }\n",
       "</style>\n",
       "<table border=\"1\" class=\"dataframe\">\n",
       "  <thead>\n",
       "    <tr style=\"text-align: right;\">\n",
       "      <th></th>\n",
       "      <th>rideable_type</th>\n",
       "      <th>count</th>\n",
       "      <th>median_distance</th>\n",
       "      <th>median_duration</th>\n",
       "    </tr>\n",
       "  </thead>\n",
       "  <tbody>\n",
       "    <tr>\n",
       "      <th>0</th>\n",
       "      <td>classic_bike</td>\n",
       "      <td>2584947</td>\n",
       "      <td>1447.972057</td>\n",
       "      <td>10.583333</td>\n",
       "    </tr>\n",
       "    <tr>\n",
       "      <th>1</th>\n",
       "      <td>docked_bike</td>\n",
       "      <td>154494</td>\n",
       "      <td>1599.573948</td>\n",
       "      <td>27.366667</td>\n",
       "    </tr>\n",
       "    <tr>\n",
       "      <th>2</th>\n",
       "      <td>electric_bike</td>\n",
       "      <td>1755240</td>\n",
       "      <td>1675.753691</td>\n",
       "      <td>9.033333</td>\n",
       "    </tr>\n",
       "  </tbody>\n",
       "</table>\n",
       "</div>"
      ],
      "text/plain": [
       "   rideable_type    count  median_distance  median_duration\n",
       "0   classic_bike  2584947      1447.972057        10.583333\n",
       "1    docked_bike   154494      1599.573948        27.366667\n",
       "2  electric_bike  1755240      1675.753691         9.033333"
      ]
     },
     "execution_count": 71,
     "metadata": {},
     "output_type": "execute_result"
    }
   ],
   "source": [
    "df_by_rideable_type = df_clean[['rideable_type', 'distance', 'duration_minutes_tot']].groupby('rideable_type').agg(['count','median']).reset_index()\n",
    "df_by_rideable_type.columns = df_by_rideable_type.columns.droplevel(1)\n",
    "df_by_rideable_type.columns = ['rideable_type', 'count', 'median_distance', 'count2', 'median_duration']\n",
    "df_by_rideable_type.drop(columns='count2', inplace = True)\n",
    "df_by_rideable_type"
   ]
  },
  {
   "cell_type": "code",
   "execution_count": 301,
   "id": "e7580a3e",
   "metadata": {
    "ExecuteTime": {
     "end_time": "2023-07-26T19:15:25.572563Z",
     "start_time": "2023-07-26T19:15:24.809145Z"
    }
   },
   "outputs": [
    {
     "data": {
      "image/png": "[encoded data removed]",
      "text/plain": [
       "<Figure size 640x480 with 3 Axes>"
      ]
     },
     "metadata": {},
     "output_type": "display_data"
    }
   ],
   "source": [
    "plt.subplot(1,3,1)\n",
    "sb.barplot(x = 'rideable_type', y = 'median_distance', data =  df_by_rideable_type)\n",
    "annotate_bar(plt.gca(), pct = True)\n",
    "plt.xticks(rotation=45)\n",
    "plt.subplot(1,3,2)\n",
    "sb.barplot(x = 'rideable_type', y = 'median_duration', data =  df_by_rideable_type)\n",
    "annotate_bar(plt.gca(), pct = True)\n",
    "plt.xticks(rotation=45)\n",
    "plt.subplot(1,3,3)\n",
    "plt.ticklabel_format(useOffset=False, style='plain')  # suppress scientific notation\n",
    "sb.barplot(x = 'rideable_type', y = 'count', data =  df_by_rideable_type)\n",
    "plt.xticks(rotation=45)\n",
    "annotate_bar(plt.gca(), pct = True)\n",
    "plt.subplots_adjust(wspace=0.8)\n",
    "\n"
   ]
  },
  {
   "cell_type": "markdown",
   "id": "275f04da",
   "metadata": {},
   "source": [
    "- People cycle further using electric bikes.\n",
    "- The duration for rides on classic and electric bikes are the same, however docked_bikes rides last longer.\n",
    "- The number of rides for docked bikes is small."
   ]
  },
  {
   "cell_type": "markdown",
   "id": "47588604",
   "metadata": {
    "ExecuteTime": {
     "end_time": "2023-07-12T13:30:32.553948Z",
     "start_time": "2023-07-12T13:30:32.533946Z"
    }
   },
   "source": [
    "### Casual Riders and Members"
   ]
  },
  {
   "cell_type": "code",
   "execution_count": 73,
   "id": "2612f358",
   "metadata": {
    "ExecuteTime": {
     "end_time": "2023-07-25T10:42:29.793972Z",
     "start_time": "2023-07-25T10:42:29.762794Z"
    }
   },
   "outputs": [
    {
     "data": {
      "text/plain": [
       "Index(['ride_id', 'rideable_type', 'started_at', 'ended_at',\n",
       "       'start_station_name', 'start_station_id', 'end_station_name',\n",
       "       'end_station_id', 'start_lat', 'start_lng', 'end_lat', 'end_lng',\n",
       "       'member_casual', 'duration', 'distance', 'duration_days',\n",
       "       'duration_minutes', 'duration_minutes_tot', 'day', 'month', 'year',\n",
       "       'dow'],\n",
       "      dtype='object')"
      ]
     },
     "execution_count": 73,
     "metadata": {},
     "output_type": "execute_result"
    }
   ],
   "source": [
    "df_clean.columns"
   ]
  },
  {
   "cell_type": "code",
   "execution_count": 74,
   "id": "b5f7e91b",
   "metadata": {
    "ExecuteTime": {
     "end_time": "2023-07-25T10:42:37.377338Z",
     "start_time": "2023-07-25T10:42:35.697343Z"
    }
   },
   "outputs": [
    {
     "data": {
      "text/html": [
       "<div>\n",
       "<style scoped>\n",
       "    .dataframe tbody tr th:only-of-type {\n",
       "        vertical-align: middle;\n",
       "    }\n",
       "\n",
       "    .dataframe tbody tr th {\n",
       "        vertical-align: top;\n",
       "    }\n",
       "\n",
       "    .dataframe thead th {\n",
       "        text-align: right;\n",
       "    }\n",
       "</style>\n",
       "<table border=\"1\" class=\"dataframe\">\n",
       "  <thead>\n",
       "    <tr style=\"text-align: right;\">\n",
       "      <th></th>\n",
       "      <th>member_casual</th>\n",
       "      <th>count</th>\n",
       "      <th>median_distance</th>\n",
       "      <th>median_duration</th>\n",
       "      <th>classic_bike</th>\n",
       "      <th>docked_bike</th>\n",
       "      <th>electric_bike</th>\n",
       "    </tr>\n",
       "  </thead>\n",
       "  <tbody>\n",
       "    <tr>\n",
       "      <th>0</th>\n",
       "      <td>casual</td>\n",
       "      <td>1747907</td>\n",
       "      <td>1622.249902</td>\n",
       "      <td>13.083333</td>\n",
       "      <td>855180.0</td>\n",
       "      <td>154494.0</td>\n",
       "      <td>738233.0</td>\n",
       "    </tr>\n",
       "    <tr>\n",
       "      <th>1</th>\n",
       "      <td>member</td>\n",
       "      <td>2746774</td>\n",
       "      <td>1483.835204</td>\n",
       "      <td>8.750000</td>\n",
       "      <td>1729767.0</td>\n",
       "      <td>0.0</td>\n",
       "      <td>1017007.0</td>\n",
       "    </tr>\n",
       "  </tbody>\n",
       "</table>\n",
       "</div>"
      ],
      "text/plain": [
       "  member_casual    count  median_distance  median_duration  classic_bike   \n",
       "0        casual  1747907      1622.249902        13.083333      855180.0  \\\n",
       "1        member  2746774      1483.835204         8.750000     1729767.0   \n",
       "\n",
       "   docked_bike  electric_bike  \n",
       "0     154494.0       738233.0  \n",
       "1          0.0      1017007.0  "
      ]
     },
     "execution_count": 74,
     "metadata": {},
     "output_type": "execute_result"
    }
   ],
   "source": [
    "df_by_member = df_clean[['member_casual', 'distance', 'duration_minutes_tot']].groupby('member_casual').agg(['count','median']).reset_index()\n",
    "df_by_member.columns = df_by_member.columns.droplevel(1)\n",
    "df_by_member.columns = ['member_casual', 'count', 'median_distance', 'count2', 'median_duration']\n",
    "df_by_member.drop(columns='count2', inplace = True)\n",
    "df_by_member = df_by_member.reindex(columns = df_by_member.columns.tolist() + ['classic_bike', 'docked_bike','electric_bike'])\n",
    "\n",
    "casual_types = [\n",
    "df_clean[(df_clean['member_casual'] == 'casual') &\n",
    "         (df_clean['rideable_type'] == 'classic_bike')].count()[0],\n",
    "\n",
    "df_clean[(df_clean['member_casual'] == 'casual') &\n",
    "         (df_clean['rideable_type'] == 'docked_bike')].count()[0],\n",
    "\n",
    "df_clean[(df_clean['member_casual'] == 'casual') &\n",
    "         (df_clean['rideable_type'] == 'electric_bike')].count()[0]\n",
    "]\n",
    "\n",
    "member_types = [\n",
    "df_clean[(df_clean['member_casual'] == 'member') &\n",
    "         (df_clean['rideable_type'] == 'classic_bike')].count()[0],\n",
    "\n",
    "df_clean[(df_clean['member_casual'] == 'member') &\n",
    "         (df_clean['rideable_type'] == 'docked_bike')].count()[0],\n",
    "\n",
    "df_clean[(df_clean['member_casual'] == 'member') &\n",
    "         (df_clean['rideable_type'] == 'electric_bike')].count()[0]\n",
    "]\n",
    "\n",
    "df_by_member.loc[0] = df_by_member.loc[0].to_list()[:-3] + casual_types\n",
    "df_by_member.loc[1] = df_by_member.loc[1].to_list()[:-3] + member_types\n",
    "df_by_member"
   ]
  },
  {
   "cell_type": "code",
   "execution_count": 186,
   "id": "195e4c11",
   "metadata": {
    "ExecuteTime": {
     "end_time": "2023-07-26T10:26:53.027888Z",
     "start_time": "2023-07-26T10:26:53.004553Z"
    }
   },
   "outputs": [
    {
     "data": {
      "text/plain": [
       "38.89"
      ]
     },
     "execution_count": 186,
     "metadata": {},
     "output_type": "execute_result"
    }
   ],
   "source": [
    "rides = df_by_member.loc[1, 'count'] + df_by_member.loc[0, 'count']\n",
    "pct_casual_rides = round(df_by_member.loc[0, 'count'] / rides * 100,2)\n",
    "pct_member_rides = round(df_by_member.loc[1,'count'] / rides * 100,2)\n",
    "pct_casual_rides"
   ]
  },
  {
   "cell_type": "code",
   "execution_count": 187,
   "id": "fbc8cb10",
   "metadata": {
    "ExecuteTime": {
     "end_time": "2023-07-26T10:26:57.693741Z",
     "start_time": "2023-07-26T10:26:57.170876Z"
    },
    "scrolled": false
   },
   "outputs": [
    {
     "data": {
      "image/png": "[encoded data removed]",
      "text/plain": [
       "<Figure size 640x480 with 3 Axes>"
      ]
     },
     "metadata": {},
     "output_type": "display_data"
    }
   ],
   "source": [
    "plt.subplot(1,3,1)\n",
    "sb.barplot(x = 'member_casual', y = 'median_distance', data =  df_by_member)\n",
    "annotate_bar(plt.gca())\n",
    "plt.subplot(1,3,2)\n",
    "sb.barplot(x = 'member_casual', y = 'median_duration', data =  df_by_member)\n",
    "annotate_bar(plt.gca())\n",
    "plt.subplot(1,3,3)\n",
    "plt.ticklabel_format(useOffset=False, style='plain')\n",
    "sb.barplot(x = 'member_casual', y = 'count', data =  df_by_member)\n",
    "annotate_bar(plt.gca(),(f'{pct_casual_rides}%', f'{pct_member_rides}%'))\n",
    "plt.subplots_adjust(wspace=0.8)"
   ]
  },
  {
   "cell_type": "markdown",
   "id": "5c0dcca8",
   "metadata": {},
   "source": [
    "- Casual members spend more time cycling, and also tend to cycle a bit longer.\n",
    "- Casual members account for almost 39% of rides, while the remaining 61% are done by members."
   ]
  },
  {
   "cell_type": "code",
   "execution_count": 325,
   "id": "bf9df18c",
   "metadata": {
    "ExecuteTime": {
     "end_time": "2023-07-26T19:30:26.531039Z",
     "start_time": "2023-07-26T19:30:25.878098Z"
    },
    "scrolled": false
   },
   "outputs": [
    {
     "data": {
      "image/png": "[encoded data removed]",
      "text/plain": [
       "<Figure size 640x480 with 3 Axes>"
      ]
     },
     "metadata": {},
     "output_type": "display_data"
    }
   ],
   "source": [
    "\n",
    "plt.subplot(1,3,1)\n",
    "plt.ticklabel_format(useOffset=False, style='plain')\n",
    "sb.barplot(x = 'member_casual', y = 'classic_bike', data =  df_by_member)\n",
    "annotate_bar(plt.gca(), pct = True)\n",
    "plt.subplot(1,3,2)\n",
    "sb.barplot(x = 'member_casual', y = 'docked_bike', data =  df_by_member)\n",
    "annotate_bar(plt.gca(), pct = True)\n",
    "plt.subplot(1,3,3)\n",
    "plt.ticklabel_format(useOffset=False, style='plain')\n",
    "sb.barplot(x = 'member_casual', y = 'electric_bike', data =  df_by_member)\n",
    "annotate_bar(plt.gca(), pct = True)\n",
    "plt.subplots_adjust(wspace=0.8)  # Adjust the horizontal spacing between subplots\n"
   ]
  },
  {
   "cell_type": "markdown",
   "id": "c9a4d264",
   "metadata": {},
   "source": [
    "- Members use mostly classic and electric bikes.\n",
    "- Docked bikes are only used by casual users."
   ]
  },
  {
   "cell_type": "markdown",
   "id": "8515f2eb",
   "metadata": {
    "ExecuteTime": {
     "end_time": "2023-07-12T14:33:52.734715Z",
     "start_time": "2023-07-12T14:33:52.723649Z"
    }
   },
   "source": [
    "### Rides by Month"
   ]
  },
  {
   "cell_type": "code",
   "execution_count": 79,
   "id": "64d59fde",
   "metadata": {
    "ExecuteTime": {
     "end_time": "2023-07-25T10:44:28.860018Z",
     "start_time": "2023-07-25T10:44:28.828834Z"
    }
   },
   "outputs": [
    {
     "data": {
      "text/plain": [
       "Index(['ride_id', 'rideable_type', 'started_at', 'ended_at',\n",
       "       'start_station_name', 'start_station_id', 'end_station_name',\n",
       "       'end_station_id', 'start_lat', 'start_lng', 'end_lat', 'end_lng',\n",
       "       'member_casual', 'duration', 'distance', 'duration_days',\n",
       "       'duration_minutes', 'duration_minutes_tot', 'day', 'month', 'year',\n",
       "       'dow'],\n",
       "      dtype='object')"
      ]
     },
     "execution_count": 79,
     "metadata": {},
     "output_type": "execute_result"
    }
   ],
   "source": [
    "df_clean.columns"
   ]
  },
  {
   "cell_type": "code",
   "execution_count": 200,
   "id": "c57a19ba",
   "metadata": {
    "ExecuteTime": {
     "end_time": "2023-07-26T10:43:40.354911Z",
     "start_time": "2023-07-26T10:43:35.880348Z"
    }
   },
   "outputs": [],
   "source": [
    "df_by_month = df_clean[['duration_minutes_tot','member_casual','distance','month']].groupby(['member_casual','month']).agg('median','count').reset_index()\n",
    "_ = df_clean[['ride_id','member_casual','month']].groupby(['member_casual','month']).count().reset_index()\n",
    "df_by_month['count'] = _['ride_id']\n",
    "df_by_month.columns = ['member_casual', 'month', 'median_duration_min', 'median_distance', 'count']\n",
    "# df_by_month"
   ]
  },
  {
   "cell_type": "code",
   "execution_count": 322,
   "id": "eb62e219",
   "metadata": {
    "ExecuteTime": {
     "end_time": "2023-07-26T19:29:23.826732Z",
     "start_time": "2023-07-26T19:29:23.313230Z"
    }
   },
   "outputs": [
    {
     "data": {
      "text/plain": [
       "Text(0.5, 1.0, 'Rides by Month')"
      ]
     },
     "execution_count": 322,
     "metadata": {},
     "output_type": "execute_result"
    },
    {
     "data": {
      "image/png": "[encoded data removed]",
      "text/plain": [
       "<Figure size 640x480 with 1 Axes>"
      ]
     },
     "metadata": {},
     "output_type": "display_data"
    }
   ],
   "source": [
    "sb.lineplot(x = 'month', y = 'count', hue = 'member_casual', data = df_by_month)\n",
    "plt.title('Rides by Month', fontsize =16)"
   ]
  },
  {
   "cell_type": "markdown",
   "id": "bc452eb6",
   "metadata": {},
   "source": [
    "- Both type of members have the same pattern of usage throughout the year."
   ]
  },
  {
   "cell_type": "code",
   "execution_count": 85,
   "id": "2546c15b",
   "metadata": {
    "ExecuteTime": {
     "end_time": "2023-07-25T16:23:23.487459Z",
     "start_time": "2023-07-25T16:23:20.394176Z"
    }
   },
   "outputs": [
    {
     "data": {
      "text/html": [
       "<div>\n",
       "<style scoped>\n",
       "    .dataframe tbody tr th:only-of-type {\n",
       "        vertical-align: middle;\n",
       "    }\n",
       "\n",
       "    .dataframe tbody tr th {\n",
       "        vertical-align: top;\n",
       "    }\n",
       "\n",
       "    .dataframe thead th {\n",
       "        text-align: right;\n",
       "    }\n",
       "</style>\n",
       "<table border=\"1\" class=\"dataframe\">\n",
       "  <thead>\n",
       "    <tr style=\"text-align: right;\">\n",
       "      <th></th>\n",
       "      <th>member_casual</th>\n",
       "      <th>day</th>\n",
       "      <th>median_duration</th>\n",
       "      <th>median_distance</th>\n",
       "      <th>count</th>\n",
       "    </tr>\n",
       "  </thead>\n",
       "  <tbody>\n",
       "    <tr>\n",
       "      <th>0</th>\n",
       "      <td>casual</td>\n",
       "      <td>1</td>\n",
       "      <td>12.350000</td>\n",
       "      <td>1599.573948</td>\n",
       "      <td>52191</td>\n",
       "    </tr>\n",
       "    <tr>\n",
       "      <th>1</th>\n",
       "      <td>casual</td>\n",
       "      <td>2</td>\n",
       "      <td>13.566667</td>\n",
       "      <td>1634.562817</td>\n",
       "      <td>62204</td>\n",
       "    </tr>\n",
       "    <tr>\n",
       "      <th>2</th>\n",
       "      <td>casual</td>\n",
       "      <td>3</td>\n",
       "      <td>13.941667</td>\n",
       "      <td>1624.848798</td>\n",
       "      <td>63946</td>\n",
       "    </tr>\n",
       "    <tr>\n",
       "      <th>3</th>\n",
       "      <td>casual</td>\n",
       "      <td>4</td>\n",
       "      <td>13.200000</td>\n",
       "      <td>1599.573948</td>\n",
       "      <td>58134</td>\n",
       "    </tr>\n",
       "    <tr>\n",
       "      <th>4</th>\n",
       "      <td>casual</td>\n",
       "      <td>5</td>\n",
       "      <td>13.750000</td>\n",
       "      <td>1630.610397</td>\n",
       "      <td>62368</td>\n",
       "    </tr>\n",
       "    <tr>\n",
       "      <th>...</th>\n",
       "      <td>...</td>\n",
       "      <td>...</td>\n",
       "      <td>...</td>\n",
       "      <td>...</td>\n",
       "      <td>...</td>\n",
       "    </tr>\n",
       "    <tr>\n",
       "      <th>57</th>\n",
       "      <td>member</td>\n",
       "      <td>27</td>\n",
       "      <td>8.716667</td>\n",
       "      <td>1481.782132</td>\n",
       "      <td>88844</td>\n",
       "    </tr>\n",
       "    <tr>\n",
       "      <th>58</th>\n",
       "      <td>member</td>\n",
       "      <td>28</td>\n",
       "      <td>8.633333</td>\n",
       "      <td>1472.239298</td>\n",
       "      <td>92104</td>\n",
       "    </tr>\n",
       "    <tr>\n",
       "      <th>59</th>\n",
       "      <td>member</td>\n",
       "      <td>29</td>\n",
       "      <td>8.866667</td>\n",
       "      <td>1499.163831</td>\n",
       "      <td>85193</td>\n",
       "    </tr>\n",
       "    <tr>\n",
       "      <th>60</th>\n",
       "      <td>member</td>\n",
       "      <td>30</td>\n",
       "      <td>8.800000</td>\n",
       "      <td>1495.102320</td>\n",
       "      <td>84616</td>\n",
       "    </tr>\n",
       "    <tr>\n",
       "      <th>61</th>\n",
       "      <td>member</td>\n",
       "      <td>31</td>\n",
       "      <td>8.783333</td>\n",
       "      <td>1483.713618</td>\n",
       "      <td>52215</td>\n",
       "    </tr>\n",
       "  </tbody>\n",
       "</table>\n",
       "<p>62 rows × 5 columns</p>\n",
       "</div>"
      ],
      "text/plain": [
       "   member_casual  day  median_duration  median_distance  count\n",
       "0         casual    1        12.350000      1599.573948  52191\n",
       "1         casual    2        13.566667      1634.562817  62204\n",
       "2         casual    3        13.941667      1624.848798  63946\n",
       "3         casual    4        13.200000      1599.573948  58134\n",
       "4         casual    5        13.750000      1630.610397  62368\n",
       "..           ...  ...              ...              ...    ...\n",
       "57        member   27         8.716667      1481.782132  88844\n",
       "58        member   28         8.633333      1472.239298  92104\n",
       "59        member   29         8.866667      1499.163831  85193\n",
       "60        member   30         8.800000      1495.102320  84616\n",
       "61        member   31         8.783333      1483.713618  52215\n",
       "\n",
       "[62 rows x 5 columns]"
      ]
     },
     "execution_count": 85,
     "metadata": {},
     "output_type": "execute_result"
    }
   ],
   "source": [
    "df_by_day = df_clean[['duration_minutes_tot','member_casual','distance','day']].groupby(['member_casual','day']).agg('median','count').reset_index()\n",
    "_ = df_clean[['ride_id','member_casual','day']].groupby(['member_casual','day']).count().reset_index()\n",
    "df_by_day['count'] = _['ride_id']\n",
    "df_by_day.columns = ['member_casual', 'day', 'median_duration', 'median_distance', 'count']\n",
    "df_by_day"
   ]
  },
  {
   "cell_type": "code",
   "execution_count": 306,
   "id": "f5f161c4",
   "metadata": {
    "ExecuteTime": {
     "end_time": "2023-07-26T19:17:20.624051Z",
     "start_time": "2023-07-26T19:17:20.223906Z"
    }
   },
   "outputs": [
    {
     "data": {
      "text/plain": [
       "<Axes: xlabel='day', ylabel='median_duration'>"
      ]
     },
     "execution_count": 306,
     "metadata": {},
     "output_type": "execute_result"
    },
    {
     "data": {
      "image/png": "[encoded data removed]",
      "text/plain": [
       "<Figure size 640x480 with 1 Axes>"
      ]
     },
     "metadata": {},
     "output_type": "display_data"
    }
   ],
   "source": [
    "# plt.subplot(2,2,1)\n",
    "sb.lineplot(x = 'day', y = 'median_duration', hue = 'member_casual', data = df_by_day)\n",
    "# plt.subplot(2,2,2)\n",
    "# sb.lineplot(x = 'day', y = 'median_distance', hue = 'member_casual', data = df_by_day)\n",
    "# plt.subplot(2,2,3)\n",
    "# sb.barplot(x = 'day', y = 'count', hue = 'member_casual', data = df_by_day)\n",
    "# plt.show()"
   ]
  },
  {
   "cell_type": "markdown",
   "id": "2cabd532",
   "metadata": {},
   "source": [
    "- No particular trend when comparing days"
   ]
  },
  {
   "cell_type": "code",
   "execution_count": 94,
   "id": "11e4f65c",
   "metadata": {
    "ExecuteTime": {
     "end_time": "2023-07-25T17:04:49.556642Z",
     "start_time": "2023-07-25T17:04:48.453427Z"
    }
   },
   "outputs": [
    {
     "data": {
      "text/html": [
       "<div>\n",
       "<style scoped>\n",
       "    .dataframe tbody tr th:only-of-type {\n",
       "        vertical-align: middle;\n",
       "    }\n",
       "\n",
       "    .dataframe tbody tr th {\n",
       "        vertical-align: top;\n",
       "    }\n",
       "\n",
       "    .dataframe thead th {\n",
       "        text-align: right;\n",
       "    }\n",
       "</style>\n",
       "<table border=\"1\" class=\"dataframe\">\n",
       "  <thead>\n",
       "    <tr style=\"text-align: right;\">\n",
       "      <th></th>\n",
       "      <th>member_casual</th>\n",
       "      <th>dow</th>\n",
       "      <th>median_duration</th>\n",
       "      <th>median_distance</th>\n",
       "      <th>count</th>\n",
       "    </tr>\n",
       "  </thead>\n",
       "  <tbody>\n",
       "    <tr>\n",
       "      <th>0</th>\n",
       "      <td>casual</td>\n",
       "      <td>0</td>\n",
       "      <td>12.533333</td>\n",
       "      <td>1539.951726</td>\n",
       "      <td>194974</td>\n",
       "    </tr>\n",
       "    <tr>\n",
       "      <th>1</th>\n",
       "      <td>casual</td>\n",
       "      <td>1</td>\n",
       "      <td>11.566667</td>\n",
       "      <td>1575.441350</td>\n",
       "      <td>202337</td>\n",
       "    </tr>\n",
       "    <tr>\n",
       "      <th>2</th>\n",
       "      <td>casual</td>\n",
       "      <td>2</td>\n",
       "      <td>11.483333</td>\n",
       "      <td>1595.396916</td>\n",
       "      <td>218113</td>\n",
       "    </tr>\n",
       "    <tr>\n",
       "      <th>3</th>\n",
       "      <td>casual</td>\n",
       "      <td>3</td>\n",
       "      <td>11.766667</td>\n",
       "      <td>1602.366671</td>\n",
       "      <td>233766</td>\n",
       "    </tr>\n",
       "    <tr>\n",
       "      <th>4</th>\n",
       "      <td>casual</td>\n",
       "      <td>4</td>\n",
       "      <td>12.800000</td>\n",
       "      <td>1616.521301</td>\n",
       "      <td>258175</td>\n",
       "    </tr>\n",
       "    <tr>\n",
       "      <th>5</th>\n",
       "      <td>casual</td>\n",
       "      <td>5</td>\n",
       "      <td>15.183333</td>\n",
       "      <td>1713.156750</td>\n",
       "      <td>350970</td>\n",
       "    </tr>\n",
       "    <tr>\n",
       "      <th>6</th>\n",
       "      <td>casual</td>\n",
       "      <td>6</td>\n",
       "      <td>15.333333</td>\n",
       "      <td>1667.515107</td>\n",
       "      <td>289572</td>\n",
       "    </tr>\n",
       "    <tr>\n",
       "      <th>7</th>\n",
       "      <td>member</td>\n",
       "      <td>0</td>\n",
       "      <td>8.250000</td>\n",
       "      <td>1415.640829</td>\n",
       "      <td>374374</td>\n",
       "    </tr>\n",
       "    <tr>\n",
       "      <th>8</th>\n",
       "      <td>member</td>\n",
       "      <td>1</td>\n",
       "      <td>8.450000</td>\n",
       "      <td>1460.397252</td>\n",
       "      <td>438809</td>\n",
       "    </tr>\n",
       "    <tr>\n",
       "      <th>9</th>\n",
       "      <td>member</td>\n",
       "      <td>2</td>\n",
       "      <td>8.566667</td>\n",
       "      <td>1481.782132</td>\n",
       "      <td>456846</td>\n",
       "    </tr>\n",
       "    <tr>\n",
       "      <th>10</th>\n",
       "      <td>member</td>\n",
       "      <td>3</td>\n",
       "      <td>8.600000</td>\n",
       "      <td>1477.293921</td>\n",
       "      <td>442117</td>\n",
       "    </tr>\n",
       "    <tr>\n",
       "      <th>11</th>\n",
       "      <td>member</td>\n",
       "      <td>4</td>\n",
       "      <td>8.633333</td>\n",
       "      <td>1457.673949</td>\n",
       "      <td>387064</td>\n",
       "    </tr>\n",
       "    <tr>\n",
       "      <th>12</th>\n",
       "      <td>member</td>\n",
       "      <td>5</td>\n",
       "      <td>9.716667</td>\n",
       "      <td>1585.101057</td>\n",
       "      <td>343725</td>\n",
       "    </tr>\n",
       "    <tr>\n",
       "      <th>13</th>\n",
       "      <td>member</td>\n",
       "      <td>6</td>\n",
       "      <td>9.550000</td>\n",
       "      <td>1545.725031</td>\n",
       "      <td>303839</td>\n",
       "    </tr>\n",
       "  </tbody>\n",
       "</table>\n",
       "</div>"
      ],
      "text/plain": [
       "   member_casual  dow  median_duration  median_distance   count\n",
       "0         casual    0        12.533333      1539.951726  194974\n",
       "1         casual    1        11.566667      1575.441350  202337\n",
       "2         casual    2        11.483333      1595.396916  218113\n",
       "3         casual    3        11.766667      1602.366671  233766\n",
       "4         casual    4        12.800000      1616.521301  258175\n",
       "5         casual    5        15.183333      1713.156750  350970\n",
       "6         casual    6        15.333333      1667.515107  289572\n",
       "7         member    0         8.250000      1415.640829  374374\n",
       "8         member    1         8.450000      1460.397252  438809\n",
       "9         member    2         8.566667      1481.782132  456846\n",
       "10        member    3         8.600000      1477.293921  442117\n",
       "11        member    4         8.633333      1457.673949  387064\n",
       "12        member    5         9.716667      1585.101057  343725\n",
       "13        member    6         9.550000      1545.725031  303839"
      ]
     },
     "execution_count": 94,
     "metadata": {},
     "output_type": "execute_result"
    }
   ],
   "source": [
    "df_by_dow = df_clean[['duration_minutes_tot','member_casual','distance','dow']].groupby(['member_casual','dow']).median().reset_index()\n",
    "_ = df_clean[['ride_id','member_casual','dow']].groupby(['member_casual','dow']).count().reset_index()\n",
    "df_by_dow['count'] = _['ride_id']\n",
    "df_by_dow.columns = ['member_casual', 'dow', 'median_duration', 'median_distance', 'count']\n",
    "df_by_dow"
   ]
  },
  {
   "cell_type": "code",
   "execution_count": 319,
   "id": "2af115b2",
   "metadata": {
    "ExecuteTime": {
     "end_time": "2023-07-26T19:28:28.740412Z",
     "start_time": "2023-07-26T19:28:28.221303Z"
    }
   },
   "outputs": [
    {
     "data": {
      "text/plain": [
       "Text(0.5, 1.0, 'Rides - Day of the Week')"
      ]
     },
     "execution_count": 319,
     "metadata": {},
     "output_type": "execute_result"
    },
    {
     "data": {
      "image/png": "[encoded data removed]",
      "text/plain": [
       "<Figure size 640x480 with 1 Axes>"
      ]
     },
     "metadata": {},
     "output_type": "display_data"
    }
   ],
   "source": [
    "sb.barplot(x = 'dow', y = 'count', hue = 'member_casual', data = df_by_dow)\n",
    "plt.gca().set_xticklabels(['Mon', 'Tue', 'Wed', 'Thu', 'Fri', 'Sat', 'Sun']);\n",
    "plt.title('Rides - Day of the Week', fontsize = 18);"
   ]
  },
  {
   "cell_type": "markdown",
   "id": "2ec345f2",
   "metadata": {},
   "source": [
    "- Casual members usage peaks on weekend, even surprassing members.\n",
    "- Members usage is highest during the week"
   ]
  },
  {
   "cell_type": "code",
   "execution_count": 320,
   "id": "d11c3ebf",
   "metadata": {
    "ExecuteTime": {
     "end_time": "2023-07-26T19:28:42.023722Z",
     "start_time": "2023-07-26T19:28:41.461905Z"
    }
   },
   "outputs": [
    {
     "data": {
      "text/plain": [
       "Text(0.5, 1.0, 'Median Ride Duration - Day of the Week')"
      ]
     },
     "execution_count": 320,
     "metadata": {},
     "output_type": "execute_result"
    },
    {
     "data": {
      "image/png": "[encoded data removed]",
      "text/plain": [
       "<Figure size 640x480 with 1 Axes>"
      ]
     },
     "metadata": {},
     "output_type": "display_data"
    }
   ],
   "source": [
    "sb.barplot(x = 'dow', y = 'median_duration', hue = 'member_casual', data = df_by_dow)\n",
    "plt.gca().set_xticklabels(['Mon', 'Tue', 'Wed', 'Thu', 'Fri', 'Sat', 'Sun']);\n",
    "plt.title('Median Ride Duration - Day of the Week', fontsize = 18)"
   ]
  },
  {
   "cell_type": "markdown",
   "id": "8cda7b10",
   "metadata": {},
   "source": [
    "- Casual members rides will last longer every day of the week."
   ]
  },
  {
   "cell_type": "code",
   "execution_count": 321,
   "id": "6a1c00f8",
   "metadata": {
    "ExecuteTime": {
     "end_time": "2023-07-26T19:28:46.603636Z",
     "start_time": "2023-07-26T19:28:46.091144Z"
    }
   },
   "outputs": [
    {
     "data": {
      "text/plain": [
       "Text(0.5, 1.0, 'Median Distance - Day of the Week')"
      ]
     },
     "execution_count": 321,
     "metadata": {},
     "output_type": "execute_result"
    },
    {
     "data": {
      "image/png": "[encoded data removed]",
      "text/plain": [
       "<Figure size 640x480 with 1 Axes>"
      ]
     },
     "metadata": {},
     "output_type": "display_data"
    }
   ],
   "source": [
    "sb.barplot(x = 'dow', y = 'median_distance', hue = 'member_casual', data = df_by_dow)\n",
    "plt.gca().set_xticklabels(['Mon', 'Tue', 'Wed', 'Thu', 'Fri', 'Sat', 'Sun']);\n",
    "plt.title('Median Distance - Day of the Week', fontsize = 18)"
   ]
  },
  {
   "cell_type": "markdown",
   "id": "f673d998",
   "metadata": {},
   "source": [
    "- Distances for both type of users are almost the same. However Casual users will ride a little bit further."
   ]
  },
  {
   "cell_type": "code",
   "execution_count": 106,
   "id": "bfc377eb",
   "metadata": {
    "ExecuteTime": {
     "end_time": "2023-07-26T09:37:23.134893Z",
     "start_time": "2023-07-26T09:37:20.690436Z"
    }
   },
   "outputs": [],
   "source": [
    "df_clean['quarter'] = df_clean['month'].apply(lambda x: 1 if 1 <= x <= 3 else\n",
    "                                        2 if 4 <= x <= 6 else\n",
    "                                        3 if 7 <= x <= 9 else\n",
    "                                        4 )"
   ]
  },
  {
   "cell_type": "code",
   "execution_count": 214,
   "id": "f9b879a8",
   "metadata": {
    "ExecuteTime": {
     "end_time": "2023-07-26T10:56:05.346793Z",
     "start_time": "2023-07-26T10:56:05.168545Z"
    }
   },
   "outputs": [],
   "source": [
    "df_quarters = df_clean[['quarter','duration_minutes_tot']].groupby('quarter').sum().reset_index()"
   ]
  },
  {
   "cell_type": "code",
   "execution_count": 215,
   "id": "2c3a125b",
   "metadata": {
    "ExecuteTime": {
     "end_time": "2023-07-26T10:56:06.026922Z",
     "start_time": "2023-07-26T10:56:06.003492Z"
    }
   },
   "outputs": [
    {
     "data": {
      "text/html": [
       "<div>\n",
       "<style scoped>\n",
       "    .dataframe tbody tr th:only-of-type {\n",
       "        vertical-align: middle;\n",
       "    }\n",
       "\n",
       "    .dataframe tbody tr th {\n",
       "        vertical-align: top;\n",
       "    }\n",
       "\n",
       "    .dataframe thead th {\n",
       "        text-align: right;\n",
       "    }\n",
       "</style>\n",
       "<table border=\"1\" class=\"dataframe\">\n",
       "  <thead>\n",
       "    <tr style=\"text-align: right;\">\n",
       "      <th></th>\n",
       "      <th>quarter</th>\n",
       "      <th>duration_minutes_tot</th>\n",
       "    </tr>\n",
       "  </thead>\n",
       "  <tbody>\n",
       "    <tr>\n",
       "      <th>0</th>\n",
       "      <td>1</td>\n",
       "      <td>5769366.88</td>\n",
       "    </tr>\n",
       "    <tr>\n",
       "      <th>1</th>\n",
       "      <td>2</td>\n",
       "      <td>24743052.22</td>\n",
       "    </tr>\n",
       "    <tr>\n",
       "      <th>2</th>\n",
       "      <td>3</td>\n",
       "      <td>31755556.72</td>\n",
       "    </tr>\n",
       "    <tr>\n",
       "      <th>3</th>\n",
       "      <td>4</td>\n",
       "      <td>10934324.18</td>\n",
       "    </tr>\n",
       "  </tbody>\n",
       "</table>\n",
       "</div>"
      ],
      "text/plain": [
       "   quarter  duration_minutes_tot\n",
       "0        1            5769366.88\n",
       "1        2           24743052.22\n",
       "2        3           31755556.72\n",
       "3        4           10934324.18"
      ]
     },
     "execution_count": 215,
     "metadata": {},
     "output_type": "execute_result"
    }
   ],
   "source": [
    "df_quarters"
   ]
  },
  {
   "cell_type": "code",
   "execution_count": 218,
   "id": "79432a76",
   "metadata": {
    "ExecuteTime": {
     "end_time": "2023-07-26T11:04:27.688576Z",
     "start_time": "2023-07-26T11:04:27.580454Z"
    }
   },
   "outputs": [],
   "source": [
    "df_m_c_min = df_clean[['member_casual','duration_minutes_tot']].groupby('member_casual').sum().reset_index()"
   ]
  },
  {
   "cell_type": "code",
   "execution_count": 219,
   "id": "b68111e7",
   "metadata": {
    "ExecuteTime": {
     "end_time": "2023-07-26T11:04:31.007745Z",
     "start_time": "2023-07-26T11:04:30.970085Z"
    }
   },
   "outputs": [
    {
     "data": {
      "text/html": [
       "<div>\n",
       "<style scoped>\n",
       "    .dataframe tbody tr th:only-of-type {\n",
       "        vertical-align: middle;\n",
       "    }\n",
       "\n",
       "    .dataframe tbody tr th {\n",
       "        vertical-align: top;\n",
       "    }\n",
       "\n",
       "    .dataframe thead th {\n",
       "        text-align: right;\n",
       "    }\n",
       "</style>\n",
       "<table border=\"1\" class=\"dataframe\">\n",
       "  <thead>\n",
       "    <tr style=\"text-align: right;\">\n",
       "      <th></th>\n",
       "      <th>member_casual</th>\n",
       "      <th>duration_minutes_tot</th>\n",
       "    </tr>\n",
       "  </thead>\n",
       "  <tbody>\n",
       "    <tr>\n",
       "      <th>0</th>\n",
       "      <td>casual</td>\n",
       "      <td>39710358.77</td>\n",
       "    </tr>\n",
       "    <tr>\n",
       "      <th>1</th>\n",
       "      <td>member</td>\n",
       "      <td>33491941.23</td>\n",
       "    </tr>\n",
       "  </tbody>\n",
       "</table>\n",
       "</div>"
      ],
      "text/plain": [
       "  member_casual  duration_minutes_tot\n",
       "0        casual           39710358.77\n",
       "1        member           33491941.23"
      ]
     },
     "execution_count": 219,
     "metadata": {},
     "output_type": "execute_result"
    }
   ],
   "source": [
    "df_m_c_min"
   ]
  },
  {
   "cell_type": "code",
   "execution_count": 271,
   "id": "307f84cb",
   "metadata": {
    "ExecuteTime": {
     "end_time": "2023-07-26T16:39:49.074910Z",
     "start_time": "2023-07-26T16:39:48.503495Z"
    }
   },
   "outputs": [],
   "source": [
    "df_clean['start_hour'] = df_clean['started_at'].dt.hour\n",
    "# Peak hour of day for rides\n",
    "peak_hour = df_clean['start_hour'].mode()[0]\n",
    "\n",
    "# Peak day of week for rides\n",
    "peak_day = df_clean['dow'].mode()[0]"
   ]
  },
  {
   "cell_type": "code",
   "execution_count": 272,
   "id": "f8156fa6",
   "metadata": {
    "ExecuteTime": {
     "end_time": "2023-07-26T16:39:57.278469Z",
     "start_time": "2023-07-26T16:39:57.251401Z"
    }
   },
   "outputs": [
    {
     "data": {
      "text/plain": [
       "(5, 17)"
      ]
     },
     "execution_count": 272,
     "metadata": {},
     "output_type": "execute_result"
    }
   ],
   "source": [
    "peak_day, peak_hour"
   ]
  },
  {
   "cell_type": "markdown",
   "id": "f6d34b91",
   "metadata": {},
   "source": [
    "Peak day is Friday. Peak hour is 5pm."
   ]
  },
  {
   "cell_type": "markdown",
   "id": "98bf93f3",
   "metadata": {},
   "source": [
    "## Rides per Hour -  Members vs Casual"
   ]
  },
  {
   "cell_type": "code",
   "execution_count": 316,
   "id": "1c2981dd",
   "metadata": {
    "ExecuteTime": {
     "end_time": "2023-07-26T19:26:57.409170Z",
     "start_time": "2023-07-26T19:26:55.797167Z"
    }
   },
   "outputs": [
    {
     "data": {
      "text/plain": [
       "Text(0.5, 1.0, 'Total Rides Hourly Grouped - Member vs Casual')"
      ]
     },
     "execution_count": 316,
     "metadata": {},
     "output_type": "execute_result"
    },
    {
     "data": {
      "image/png": "[encoded data removed]",
      "text/plain": [
       "<Figure size 640x480 with 1 Axes>"
      ]
     },
     "metadata": {},
     "output_type": "display_data"
    }
   ],
   "source": [
    "sb.countplot(data=df_clean, x='start_hour', hue='member_casual')#, order=order)\n",
    "plt.title('Total Rides Hourly Grouped - Member vs Casual', fontsize = 18)\n"
   ]
  },
  {
   "cell_type": "markdown",
   "id": "b233027a",
   "metadata": {},
   "source": [
    "- Casual Riders cycle more in the afternoon, while members cycle in thee morning and in the afternoon."
   ]
  },
  {
   "cell_type": "markdown",
   "id": "3434f5a8",
   "metadata": {},
   "source": [
    "# Locations"
   ]
  },
  {
   "cell_type": "code",
   "execution_count": 220,
   "id": "bf5984e1",
   "metadata": {
    "ExecuteTime": {
     "end_time": "2023-07-26T14:22:01.277147Z",
     "start_time": "2023-07-26T14:22:01.187147Z"
    }
   },
   "outputs": [
    {
     "data": {
      "text/plain": [
       "Index(['ride_id', 'rideable_type', 'started_at', 'ended_at',\n",
       "       'start_station_name', 'start_station_id', 'end_station_name',\n",
       "       'end_station_id', 'start_lat', 'start_lng', 'end_lat', 'end_lng',\n",
       "       'member_casual', 'duration', 'distance', 'duration_days',\n",
       "       'duration_minutes', 'duration_minutes_tot', 'day', 'month', 'year',\n",
       "       'dow', 'quarter'],\n",
       "      dtype='object')"
      ]
     },
     "execution_count": 220,
     "metadata": {},
     "output_type": "execute_result"
    }
   ],
   "source": [
    "df_clean.columns"
   ]
  },
  {
   "cell_type": "code",
   "execution_count": 254,
   "id": "57a38d93",
   "metadata": {
    "ExecuteTime": {
     "end_time": "2023-07-26T14:37:58.379905Z",
     "start_time": "2023-07-26T14:37:57.803067Z"
    }
   },
   "outputs": [],
   "source": [
    "df_location_starts = df_clean[['start_station_name','duration_minutes_tot','distance']].groupby('start_station_name').agg(['sum','mean','median','count'])"
   ]
  },
  {
   "cell_type": "code",
   "execution_count": 256,
   "id": "5e5e18fd",
   "metadata": {
    "ExecuteTime": {
     "end_time": "2023-07-26T14:38:00.951026Z",
     "start_time": "2023-07-26T14:38:00.932205Z"
    }
   },
   "outputs": [],
   "source": [
    "df_location_starts.columns = df_location_starts.columns.droplevel(1)\n",
    "# df_location_starts.columns = df_location_starts.columns.droplevel(0)\n",
    "df_location_starts.columns = ['dur_sum', 'dur_mean', 'dur_median', 'dur_count', 'dis_sum','dis_mean','dis_median','count']\n",
    "df_location_starts.drop(columns='dur_count', inplace = True)"
   ]
  },
  {
   "cell_type": "code",
   "execution_count": 260,
   "id": "189069dd",
   "metadata": {
    "ExecuteTime": {
     "end_time": "2023-07-26T14:39:19.179532Z",
     "start_time": "2023-07-26T14:39:19.150021Z"
    }
   },
   "outputs": [
    {
     "data": {
      "text/html": [
       "<div>\n",
       "<style scoped>\n",
       "    .dataframe tbody tr th:only-of-type {\n",
       "        vertical-align: middle;\n",
       "    }\n",
       "\n",
       "    .dataframe tbody tr th {\n",
       "        vertical-align: top;\n",
       "    }\n",
       "\n",
       "    .dataframe thead th {\n",
       "        text-align: right;\n",
       "    }\n",
       "</style>\n",
       "<table border=\"1\" class=\"dataframe\">\n",
       "  <thead>\n",
       "    <tr style=\"text-align: right;\">\n",
       "      <th></th>\n",
       "      <th>dur_sum</th>\n",
       "      <th>dur_mean</th>\n",
       "      <th>dur_median</th>\n",
       "      <th>dis_sum</th>\n",
       "      <th>dis_mean</th>\n",
       "      <th>dis_median</th>\n",
       "      <th>count</th>\n",
       "    </tr>\n",
       "    <tr>\n",
       "      <th>start_station_name</th>\n",
       "      <th></th>\n",
       "      <th></th>\n",
       "      <th></th>\n",
       "      <th></th>\n",
       "      <th></th>\n",
       "      <th></th>\n",
       "      <th></th>\n",
       "    </tr>\n",
       "  </thead>\n",
       "  <tbody>\n",
       "    <tr>\n",
       "      <th>Streeter Dr &amp; Grand Ave</th>\n",
       "      <td>2175268.62</td>\n",
       "      <td>31.48</td>\n",
       "      <td>22.63</td>\n",
       "      <td>169080929.15</td>\n",
       "      <td>2447.01</td>\n",
       "      <td>1707.55</td>\n",
       "      <td>69097</td>\n",
       "    </tr>\n",
       "    <tr>\n",
       "      <th>DuSable Lake Shore Dr &amp; Monroe St</th>\n",
       "      <td>1279767.67</td>\n",
       "      <td>32.90</td>\n",
       "      <td>23.15</td>\n",
       "      <td>82740743.66</td>\n",
       "      <td>2127.28</td>\n",
       "      <td>1316.25</td>\n",
       "      <td>38895</td>\n",
       "    </tr>\n",
       "    <tr>\n",
       "      <th>Michigan Ave &amp; Oak St</th>\n",
       "      <td>1093654.88</td>\n",
       "      <td>29.48</td>\n",
       "      <td>20.57</td>\n",
       "      <td>98883470.20</td>\n",
       "      <td>2665.83</td>\n",
       "      <td>2244.54</td>\n",
       "      <td>37093</td>\n",
       "    </tr>\n",
       "    <tr>\n",
       "      <th>DuSable Lake Shore Dr &amp; North Blvd</th>\n",
       "      <td>888600.03</td>\n",
       "      <td>24.10</td>\n",
       "      <td>17.17</td>\n",
       "      <td>96329500.85</td>\n",
       "      <td>2613.10</td>\n",
       "      <td>2451.42</td>\n",
       "      <td>36864</td>\n",
       "    </tr>\n",
       "    <tr>\n",
       "      <th>Wells St &amp; Concord Ln</th>\n",
       "      <td>471097.85</td>\n",
       "      <td>13.73</td>\n",
       "      <td>9.95</td>\n",
       "      <td>73590714.54</td>\n",
       "      <td>2144.19</td>\n",
       "      <td>1933.94</td>\n",
       "      <td>34321</td>\n",
       "    </tr>\n",
       "    <tr>\n",
       "      <th>Clark St &amp; Elm St</th>\n",
       "      <td>454715.90</td>\n",
       "      <td>13.68</td>\n",
       "      <td>9.50</td>\n",
       "      <td>64634932.96</td>\n",
       "      <td>1943.91</td>\n",
       "      <td>1521.66</td>\n",
       "      <td>33250</td>\n",
       "    </tr>\n",
       "    <tr>\n",
       "      <th>Millennium Park</th>\n",
       "      <td>1051917.95</td>\n",
       "      <td>32.75</td>\n",
       "      <td>20.93</td>\n",
       "      <td>63490209.19</td>\n",
       "      <td>1976.90</td>\n",
       "      <td>1463.35</td>\n",
       "      <td>32116</td>\n",
       "    </tr>\n",
       "    <tr>\n",
       "      <th>Kingsbury St &amp; Kinzie St</th>\n",
       "      <td>333061.35</td>\n",
       "      <td>10.38</td>\n",
       "      <td>7.12</td>\n",
       "      <td>50157738.18</td>\n",
       "      <td>1562.89</td>\n",
       "      <td>1213.81</td>\n",
       "      <td>32093</td>\n",
       "    </tr>\n",
       "    <tr>\n",
       "      <th>Theater on the Lake</th>\n",
       "      <td>788682.37</td>\n",
       "      <td>25.50</td>\n",
       "      <td>19.00</td>\n",
       "      <td>88083321.10</td>\n",
       "      <td>2848.10</td>\n",
       "      <td>2674.88</td>\n",
       "      <td>30927</td>\n",
       "    </tr>\n",
       "    <tr>\n",
       "      <th>Wells St &amp; Elm St</th>\n",
       "      <td>348065.37</td>\n",
       "      <td>11.96</td>\n",
       "      <td>8.30</td>\n",
       "      <td>52235852.61</td>\n",
       "      <td>1795.11</td>\n",
       "      <td>1450.82</td>\n",
       "      <td>29099</td>\n",
       "    </tr>\n",
       "  </tbody>\n",
       "</table>\n",
       "</div>"
      ],
      "text/plain": [
       "                                      dur_sum  dur_mean  dur_median   \n",
       "start_station_name                                                    \n",
       "Streeter Dr & Grand Ave            2175268.62     31.48       22.63  \\\n",
       "DuSable Lake Shore Dr & Monroe St  1279767.67     32.90       23.15   \n",
       "Michigan Ave & Oak St              1093654.88     29.48       20.57   \n",
       "DuSable Lake Shore Dr & North Blvd  888600.03     24.10       17.17   \n",
       "Wells St & Concord Ln               471097.85     13.73        9.95   \n",
       "Clark St & Elm St                   454715.90     13.68        9.50   \n",
       "Millennium Park                    1051917.95     32.75       20.93   \n",
       "Kingsbury St & Kinzie St            333061.35     10.38        7.12   \n",
       "Theater on the Lake                 788682.37     25.50       19.00   \n",
       "Wells St & Elm St                   348065.37     11.96        8.30   \n",
       "\n",
       "                                        dis_sum  dis_mean  dis_median  count  \n",
       "start_station_name                                                            \n",
       "Streeter Dr & Grand Ave            169080929.15   2447.01     1707.55  69097  \n",
       "DuSable Lake Shore Dr & Monroe St   82740743.66   2127.28     1316.25  38895  \n",
       "Michigan Ave & Oak St               98883470.20   2665.83     2244.54  37093  \n",
       "DuSable Lake Shore Dr & North Blvd  96329500.85   2613.10     2451.42  36864  \n",
       "Wells St & Concord Ln               73590714.54   2144.19     1933.94  34321  \n",
       "Clark St & Elm St                   64634932.96   1943.91     1521.66  33250  \n",
       "Millennium Park                     63490209.19   1976.90     1463.35  32116  \n",
       "Kingsbury St & Kinzie St            50157738.18   1562.89     1213.81  32093  \n",
       "Theater on the Lake                 88083321.10   2848.10     2674.88  30927  \n",
       "Wells St & Elm St                   52235852.61   1795.11     1450.82  29099  "
      ]
     },
     "execution_count": 260,
     "metadata": {},
     "output_type": "execute_result"
    }
   ],
   "source": [
    "df_location_starts.sort_values('count', ascending = False).head(10)"
   ]
  },
  {
   "cell_type": "code",
   "execution_count": 263,
   "id": "7f28a97f",
   "metadata": {
    "ExecuteTime": {
     "end_time": "2023-07-26T14:41:47.677534Z",
     "start_time": "2023-07-26T14:41:47.117479Z"
    }
   },
   "outputs": [],
   "source": [
    "df_location_ends = df_clean[['end_station_name','duration_minutes_tot','distance']].groupby('end_station_name').agg(['sum','mean','median','count'])\n",
    "# df_location_ends.columns = df_location_starts.columns.droplevel(0)\n",
    "df_location_ends.columns = ['dur_sum', 'dur_mean', 'dur_median', 'dur_count', 'dis_sum','dis_mean','dis_median','count']\n",
    "df_location_ends.drop(columns='dur_count', inplace = True)"
   ]
  },
  {
   "cell_type": "code",
   "execution_count": 266,
   "id": "4a32f39b",
   "metadata": {
    "ExecuteTime": {
     "end_time": "2023-07-26T14:42:39.672017Z",
     "start_time": "2023-07-26T14:42:39.650618Z"
    }
   },
   "outputs": [
    {
     "data": {
      "text/html": [
       "<div>\n",
       "<style scoped>\n",
       "    .dataframe tbody tr th:only-of-type {\n",
       "        vertical-align: middle;\n",
       "    }\n",
       "\n",
       "    .dataframe tbody tr th {\n",
       "        vertical-align: top;\n",
       "    }\n",
       "\n",
       "    .dataframe thead th {\n",
       "        text-align: right;\n",
       "    }\n",
       "</style>\n",
       "<table border=\"1\" class=\"dataframe\">\n",
       "  <thead>\n",
       "    <tr style=\"text-align: right;\">\n",
       "      <th></th>\n",
       "      <th>dur_sum</th>\n",
       "      <th>dur_mean</th>\n",
       "      <th>dur_median</th>\n",
       "      <th>dis_sum</th>\n",
       "      <th>dis_mean</th>\n",
       "      <th>dis_median</th>\n",
       "      <th>count</th>\n",
       "    </tr>\n",
       "    <tr>\n",
       "      <th>end_station_name</th>\n",
       "      <th></th>\n",
       "      <th></th>\n",
       "      <th></th>\n",
       "      <th></th>\n",
       "      <th></th>\n",
       "      <th></th>\n",
       "      <th></th>\n",
       "    </tr>\n",
       "  </thead>\n",
       "  <tbody>\n",
       "    <tr>\n",
       "      <th>Streeter Dr &amp; Grand Ave</th>\n",
       "      <td>2372568.33</td>\n",
       "      <td>33.60</td>\n",
       "      <td>24.15</td>\n",
       "      <td>172289219.87</td>\n",
       "      <td>2439.91</td>\n",
       "      <td>1639.71</td>\n",
       "      <td>70613</td>\n",
       "    </tr>\n",
       "    <tr>\n",
       "      <th>DuSable Lake Shore Dr &amp; North Blvd</th>\n",
       "      <td>1044047.63</td>\n",
       "      <td>26.21</td>\n",
       "      <td>18.74</td>\n",
       "      <td>108150037.89</td>\n",
       "      <td>2714.88</td>\n",
       "      <td>2482.54</td>\n",
       "      <td>39836</td>\n",
       "    </tr>\n",
       "    <tr>\n",
       "      <th>Michigan Ave &amp; Oak St</th>\n",
       "      <td>1158043.52</td>\n",
       "      <td>30.45</td>\n",
       "      <td>21.77</td>\n",
       "      <td>99881727.38</td>\n",
       "      <td>2626.32</td>\n",
       "      <td>2213.22</td>\n",
       "      <td>38031</td>\n",
       "    </tr>\n",
       "    <tr>\n",
       "      <th>DuSable Lake Shore Dr &amp; Monroe St</th>\n",
       "      <td>1249675.60</td>\n",
       "      <td>33.02</td>\n",
       "      <td>24.83</td>\n",
       "      <td>98497004.52</td>\n",
       "      <td>2602.78</td>\n",
       "      <td>1529.68</td>\n",
       "      <td>37843</td>\n",
       "    </tr>\n",
       "    <tr>\n",
       "      <th>Wells St &amp; Concord Ln</th>\n",
       "      <td>464511.55</td>\n",
       "      <td>13.35</td>\n",
       "      <td>9.93</td>\n",
       "      <td>74192555.91</td>\n",
       "      <td>2133.01</td>\n",
       "      <td>1933.94</td>\n",
       "      <td>34783</td>\n",
       "    </tr>\n",
       "    <tr>\n",
       "      <th>Millennium Park</th>\n",
       "      <td>1046905.58</td>\n",
       "      <td>31.55</td>\n",
       "      <td>20.77</td>\n",
       "      <td>63480912.67</td>\n",
       "      <td>1913.06</td>\n",
       "      <td>1462.23</td>\n",
       "      <td>33183</td>\n",
       "    </tr>\n",
       "    <tr>\n",
       "      <th>Clark St &amp; Elm St</th>\n",
       "      <td>442042.03</td>\n",
       "      <td>13.45</td>\n",
       "      <td>9.42</td>\n",
       "      <td>61298653.66</td>\n",
       "      <td>1864.54</td>\n",
       "      <td>1472.25</td>\n",
       "      <td>32876</td>\n",
       "    </tr>\n",
       "    <tr>\n",
       "      <th>Theater on the Lake</th>\n",
       "      <td>879007.08</td>\n",
       "      <td>28.00</td>\n",
       "      <td>21.93</td>\n",
       "      <td>96263988.92</td>\n",
       "      <td>3065.93</td>\n",
       "      <td>2872.43</td>\n",
       "      <td>31398</td>\n",
       "    </tr>\n",
       "    <tr>\n",
       "      <th>Kingsbury St &amp; Kinzie St</th>\n",
       "      <td>302201.72</td>\n",
       "      <td>9.72</td>\n",
       "      <td>7.04</td>\n",
       "      <td>49037406.51</td>\n",
       "      <td>1576.66</td>\n",
       "      <td>1220.05</td>\n",
       "      <td>31102</td>\n",
       "    </tr>\n",
       "    <tr>\n",
       "      <th>Wells St &amp; Elm St</th>\n",
       "      <td>336305.03</td>\n",
       "      <td>11.64</td>\n",
       "      <td>8.47</td>\n",
       "      <td>50676269.87</td>\n",
       "      <td>1754.17</td>\n",
       "      <td>1454.16</td>\n",
       "      <td>28889</td>\n",
       "    </tr>\n",
       "  </tbody>\n",
       "</table>\n",
       "</div>"
      ],
      "text/plain": [
       "                                      dur_sum  dur_mean  dur_median   \n",
       "end_station_name                                                      \n",
       "Streeter Dr & Grand Ave            2372568.33     33.60       24.15  \\\n",
       "DuSable Lake Shore Dr & North Blvd 1044047.63     26.21       18.74   \n",
       "Michigan Ave & Oak St              1158043.52     30.45       21.77   \n",
       "DuSable Lake Shore Dr & Monroe St  1249675.60     33.02       24.83   \n",
       "Wells St & Concord Ln               464511.55     13.35        9.93   \n",
       "Millennium Park                    1046905.58     31.55       20.77   \n",
       "Clark St & Elm St                   442042.03     13.45        9.42   \n",
       "Theater on the Lake                 879007.08     28.00       21.93   \n",
       "Kingsbury St & Kinzie St            302201.72      9.72        7.04   \n",
       "Wells St & Elm St                   336305.03     11.64        8.47   \n",
       "\n",
       "                                        dis_sum  dis_mean  dis_median  count  \n",
       "end_station_name                                                              \n",
       "Streeter Dr & Grand Ave            172289219.87   2439.91     1639.71  70613  \n",
       "DuSable Lake Shore Dr & North Blvd 108150037.89   2714.88     2482.54  39836  \n",
       "Michigan Ave & Oak St               99881727.38   2626.32     2213.22  38031  \n",
       "DuSable Lake Shore Dr & Monroe St   98497004.52   2602.78     1529.68  37843  \n",
       "Wells St & Concord Ln               74192555.91   2133.01     1933.94  34783  \n",
       "Millennium Park                     63480912.67   1913.06     1462.23  33183  \n",
       "Clark St & Elm St                   61298653.66   1864.54     1472.25  32876  \n",
       "Theater on the Lake                 96263988.92   3065.93     2872.43  31398  \n",
       "Kingsbury St & Kinzie St            49037406.51   1576.66     1220.05  31102  \n",
       "Wells St & Elm St                   50676269.87   1754.17     1454.16  28889  "
      ]
     },
     "execution_count": 266,
     "metadata": {},
     "output_type": "execute_result"
    }
   ],
   "source": [
    "df_location_ends.sort_values('count', ascending = False).head(10)"
   ]
  },
  {
   "cell_type": "code",
   "execution_count": 298,
   "id": "8acc9ec5",
   "metadata": {
    "ExecuteTime": {
     "end_time": "2023-07-26T17:41:17.853034Z",
     "start_time": "2023-07-26T17:39:48.267308Z"
    },
    "scrolled": true
   },
   "outputs": [
    {
     "data": {
      "image/png": "[encoded data removed]",
      "text/plain": [
       "<Figure size 1000x1500 with 2 Axes>"
      ]
     },
     "metadata": {},
     "output_type": "display_data"
    }
   ],
   "source": [
    "df_clean['station_pair'] = df_clean[['start_station_name','end_station_name']].apply(lambda row: f\"{row['start_station_name']} to {row['end_station_name']}\", axis = 1)\n",
    "\n",
    "\n",
    "top_member_station_pairs = df_clean[df_clean['member_casual'] == 'member']['station_pair'].value_counts().head(10)\n",
    "top_casual_station_pairs = df_clean[df_clean['member_casual'] == 'casual']['station_pair'].value_counts().head(10)\n",
    "\n",
    "\n",
    "fig, ax = plt.subplots(2, 1, figsize=(10, 15))\n",
    "\n",
    "# member riders\n",
    "top_member_station_pairs.plot(kind='barh', ax=ax[0])\n",
    "ax[0].set_title('Top 10 Station Pairs for Member Riders')\n",
    "ax[0].invert_yaxis()\n",
    "\n",
    "# casual riders\n",
    "top_casual_station_pairs.plot(kind='barh', ax=ax[1])\n",
    "ax[1].set_title('Top 10 Station Pairs for Casual Riders')\n",
    "ax[1].invert_yaxis()\n",
    "\n",
    "plt.tight_layout()\n",
    "plt.show()\n",
    "                                                                                     \n",
    "#1m30s"
   ]
  },
  {
   "cell_type": "markdown",
   "id": "5c5209e8",
   "metadata": {},
   "source": [
    "# Conclusion"
   ]
  },
  {
   "cell_type": "markdown",
   "id": "bc317889",
   "metadata": {},
   "source": [
    "The data suggests that there are some differences in how and when member and casual riders use the bike sharing service. For instance, members seem to use the service consistently across the week, potentially for commuting, while casual riders use the service more on weekends, suggesting more leisure-oriented usage."
   ]
  },
  {
   "cell_type": "markdown",
   "id": "f81cf031",
   "metadata": {},
   "source": [
    "Some strategies that could potentially help convert casual riders to members:\n",
    "\n",
    "Targeted Marketing Campaigns:  \n",
    "We observed that casual riders use the service more on weekends, while member usage is more evenly spread throughout the week. This suggests that casual riders may be using the service for leisure or tourism. Therefore, marketing campaigns could highlight the benefits of membership for these activities. For example, a campaign could show how a membership can enhance weekend leisure rides or sightseeing activities.\n",
    "\n",
    "Partnerships with Tourist Attractions:  \n",
    "As casual riders may be tourists, partnerships could be formed with local tourist attractions or travel agencies to offer special membership packages or discounts.\n",
    "\n",
    "Improve and Highlight Service at Popular Locations:  \n",
    "The data showed some stations are more popular among casual riders. Improving service at these stations (e.g., ensuring bike availability, maintenance) and highlighting the advantages of membership for usage at these stations could attract more casual riders to become members."
   ]
  },
  {
   "cell_type": "code",
   "execution_count": null,
   "id": "cdfa6318",
   "metadata": {},
   "outputs": [],
   "source": []
  }
 ],
 "metadata": {
  "kernelspec": {
   "display_name": "Python 3 (ipykernel)",
   "language": "python",
   "name": "python3"
  },
  "language_info": {
   "codemirror_mode": {
    "name": "ipython",
    "version": 3
   },
   "file_extension": ".py",
   "mimetype": "text/x-python",
   "name": "python",
   "nbconvert_exporter": "python",
   "pygments_lexer": "ipython3",
   "version": "3.8.16"
  },
  "toc": {
   "base_numbering": 1,
   "nav_menu": {},
   "number_sections": true,
   "sideBar": true,
   "skip_h1_title": false,
   "title_cell": "Table of Contents",
   "title_sidebar": "Contents",
   "toc_cell": false,
   "toc_position": {},
   "toc_section_display": true,
   "toc_window_display": false
  },
  "varInspector": {
   "cols": {
    "lenName": 16,
    "lenType": 16,
    "lenVar": 40
   },
   "kernels_config": {
    "python": {
     "delete_cmd_postfix": "",
     "delete_cmd_prefix": "del ",
     "library": "var_list.py",
     "varRefreshCmd": "print(var_dic_list())"
    },
    "r": {
     "delete_cmd_postfix": ") ",
     "delete_cmd_prefix": "rm(",
     "library": "var_list.r",
     "varRefreshCmd": "cat(var_dic_list()) "
    }
   },
   "types_to_exclude": [
    "module",
    "function",
    "builtin_function_or_method",
    "instance",
    "_Feature"
   ],
   "window_display": false
  }
 },
 "nbformat": 4,
 "nbformat_minor": 5
}
